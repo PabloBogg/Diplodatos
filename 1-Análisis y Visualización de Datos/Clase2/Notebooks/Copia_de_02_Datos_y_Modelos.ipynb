{
  "cells": [
    {
      "cell_type": "markdown",
      "metadata": {
        "id": "LYvAOR2VzHmW"
      },
      "source": [
        "\n",
        "#**Diplomatura en Ciencia de Datos, Aprendizaje Automático y sus Aplicaciones**\n",
        "\n",
        "**Edición 2025**\n",
        "\n",
        "---\n",
        "\n",
        "# Datos y Modelos\n"
      ]
    },
    {
      "cell_type": "code",
      "execution_count": null,
      "metadata": {
        "id": "Xwdfo7z20TUK"
      },
      "outputs": [],
      "source": [
        "import io\n",
        "import matplotlib\n",
        "import matplotlib.pyplot as plt\n",
        "import numpy\n",
        "import pandas as pd\n",
        "import seaborn\n",
        "\n",
        "#seaborn.set_context('talk')\n",
        "pd.set_option('display.float_format', '{:.2f}'.format)"
      ]
    },
    {
      "cell_type": "markdown",
      "metadata": {
        "id": "XY2Hl-Ma07Nn"
      },
      "source": [
        "## Lectura del dataset\n",
        "\n",
        "En la notebook 00 se explican los detalles de la siguiente sección."
      ]
    },
    {
      "cell_type": "code",
      "execution_count": null,
      "metadata": {
        "id": "Vviv_sqXdR5W"
      },
      "outputs": [],
      "source": [
        "url = 'https://raw.githubusercontent.com/DiploDatos/AnalisisyVisualizacion/refs/heads/master/sysarmy_survey_2025_processed.csv'\n",
        "df = pd.read_csv(url)"
      ]
    },
    {
      "cell_type": "code",
      "execution_count": null,
      "metadata": {
        "colab": {
          "base_uri": "https://localhost:8080/",
          "height": 314
        },
        "id": "gckNHXXLktJ4",
        "outputId": "8a0de6e2-ef1b-4842-e630-8ace5b0cc290"
      },
      "outputs": [
        {
          "output_type": "execute_result",
          "data": {
            "text/plain": [
              "   Unnamed: 0                    work_province work_dedication  \\\n",
              "0           0  Ciudad Autónoma de Buenos Aires       Part-Time   \n",
              "1           1  Ciudad Autónoma de Buenos Aires       Full-Time   \n",
              "2           2                          Córdoba       Full-Time   \n",
              "\n",
              "          work_contract_type  salary_monthly_BRUTO  salary_monthly_NETO  \\\n",
              "0  Staff (planta permanente)            6500000.00           5800000.00   \n",
              "1                 Contractor           12700000.00          10200000.00   \n",
              "2  Staff (planta permanente)            3952805.00           3137662.00   \n",
              "\n",
              "                        salary_in_usd salary_last_dollar_value  \\\n",
              "0  Cobro parte del salario en dólares                      NaN   \n",
              "1    Cobro todo el salario en dólares                      NaN   \n",
              "2  Cobro parte del salario en dólares                      985   \n",
              "\n",
              "        salary_has_bonus        salary_bonus_tied_to  ...  \\\n",
              "0  De uno a tres sueldos  Performance de la compañía  ...   \n",
              "1              Un sueldo  Performance de la compañía  ...   \n",
              "2                     No              No recibo bono  ...   \n",
              "\n",
              "  salir_o_seguir_contestando_sobre_las_guardias  work_on_call_duty  \\\n",
              "0                                           NaN                NaN   \n",
              "1                             Terminar encuesta                 No   \n",
              "2                                           NaN                NaN   \n",
              "\n",
              "  salary_on_call_duty_charge  \\\n",
              "0                        NaN   \n",
              "1                       0.00   \n",
              "2                        NaN   \n",
              "\n",
              "   aclara_el_numero_que_ingresaste_en_el_campo_anterior profile_age  \\\n",
              "0                                                NaN             45   \n",
              "1                                              Bruto             32   \n",
              "2                                                NaN             29   \n",
              "\n",
              "   profile_gender habias_respondido_nuestra_encuesta_en_ediciones_anteriores  \\\n",
              "0      Hombre Cis                                                 Sí           \n",
              "1       Mujer Cis                                                 Sí           \n",
              "2      Hombre Cis                                                 Sí           \n",
              "\n",
              "  sueldo_dolarizado    seniority        _sal  \n",
              "0              True       Senior  6500000.00  \n",
              "1              True       Senior 12700000.00  \n",
              "2              True  Semi-Senior  3952805.00  \n",
              "\n",
              "[3 rows x 51 columns]"
            ],
            "text/html": [
              "\n",
              "  <div id=\"df-9dcd66e4-f0a2-4dc9-9a7d-f859c75f6d46\" class=\"colab-df-container\">\n",
              "    <div>\n",
              "<style scoped>\n",
              "    .dataframe tbody tr th:only-of-type {\n",
              "        vertical-align: middle;\n",
              "    }\n",
              "\n",
              "    .dataframe tbody tr th {\n",
              "        vertical-align: top;\n",
              "    }\n",
              "\n",
              "    .dataframe thead th {\n",
              "        text-align: right;\n",
              "    }\n",
              "</style>\n",
              "<table border=\"1\" class=\"dataframe\">\n",
              "  <thead>\n",
              "    <tr style=\"text-align: right;\">\n",
              "      <th></th>\n",
              "      <th>Unnamed: 0</th>\n",
              "      <th>work_province</th>\n",
              "      <th>work_dedication</th>\n",
              "      <th>work_contract_type</th>\n",
              "      <th>salary_monthly_BRUTO</th>\n",
              "      <th>salary_monthly_NETO</th>\n",
              "      <th>salary_in_usd</th>\n",
              "      <th>salary_last_dollar_value</th>\n",
              "      <th>salary_has_bonus</th>\n",
              "      <th>salary_bonus_tied_to</th>\n",
              "      <th>...</th>\n",
              "      <th>salir_o_seguir_contestando_sobre_las_guardias</th>\n",
              "      <th>work_on_call_duty</th>\n",
              "      <th>salary_on_call_duty_charge</th>\n",
              "      <th>aclara_el_numero_que_ingresaste_en_el_campo_anterior</th>\n",
              "      <th>profile_age</th>\n",
              "      <th>profile_gender</th>\n",
              "      <th>habias_respondido_nuestra_encuesta_en_ediciones_anteriores</th>\n",
              "      <th>sueldo_dolarizado</th>\n",
              "      <th>seniority</th>\n",
              "      <th>_sal</th>\n",
              "    </tr>\n",
              "  </thead>\n",
              "  <tbody>\n",
              "    <tr>\n",
              "      <th>0</th>\n",
              "      <td>0</td>\n",
              "      <td>Ciudad Autónoma de Buenos Aires</td>\n",
              "      <td>Part-Time</td>\n",
              "      <td>Staff (planta permanente)</td>\n",
              "      <td>6500000.00</td>\n",
              "      <td>5800000.00</td>\n",
              "      <td>Cobro parte del salario en dólares</td>\n",
              "      <td>NaN</td>\n",
              "      <td>De uno a tres sueldos</td>\n",
              "      <td>Performance de la compañía</td>\n",
              "      <td>...</td>\n",
              "      <td>NaN</td>\n",
              "      <td>NaN</td>\n",
              "      <td>NaN</td>\n",
              "      <td>NaN</td>\n",
              "      <td>45</td>\n",
              "      <td>Hombre Cis</td>\n",
              "      <td>Sí</td>\n",
              "      <td>True</td>\n",
              "      <td>Senior</td>\n",
              "      <td>6500000.00</td>\n",
              "    </tr>\n",
              "    <tr>\n",
              "      <th>1</th>\n",
              "      <td>1</td>\n",
              "      <td>Ciudad Autónoma de Buenos Aires</td>\n",
              "      <td>Full-Time</td>\n",
              "      <td>Contractor</td>\n",
              "      <td>12700000.00</td>\n",
              "      <td>10200000.00</td>\n",
              "      <td>Cobro todo el salario en dólares</td>\n",
              "      <td>NaN</td>\n",
              "      <td>Un sueldo</td>\n",
              "      <td>Performance de la compañía</td>\n",
              "      <td>...</td>\n",
              "      <td>Terminar encuesta</td>\n",
              "      <td>No</td>\n",
              "      <td>0.00</td>\n",
              "      <td>Bruto</td>\n",
              "      <td>32</td>\n",
              "      <td>Mujer Cis</td>\n",
              "      <td>Sí</td>\n",
              "      <td>True</td>\n",
              "      <td>Senior</td>\n",
              "      <td>12700000.00</td>\n",
              "    </tr>\n",
              "    <tr>\n",
              "      <th>2</th>\n",
              "      <td>2</td>\n",
              "      <td>Córdoba</td>\n",
              "      <td>Full-Time</td>\n",
              "      <td>Staff (planta permanente)</td>\n",
              "      <td>3952805.00</td>\n",
              "      <td>3137662.00</td>\n",
              "      <td>Cobro parte del salario en dólares</td>\n",
              "      <td>985</td>\n",
              "      <td>No</td>\n",
              "      <td>No recibo bono</td>\n",
              "      <td>...</td>\n",
              "      <td>NaN</td>\n",
              "      <td>NaN</td>\n",
              "      <td>NaN</td>\n",
              "      <td>NaN</td>\n",
              "      <td>29</td>\n",
              "      <td>Hombre Cis</td>\n",
              "      <td>Sí</td>\n",
              "      <td>True</td>\n",
              "      <td>Semi-Senior</td>\n",
              "      <td>3952805.00</td>\n",
              "    </tr>\n",
              "  </tbody>\n",
              "</table>\n",
              "<p>3 rows × 51 columns</p>\n",
              "</div>\n",
              "    <div class=\"colab-df-buttons\">\n",
              "\n",
              "  <div class=\"colab-df-container\">\n",
              "    <button class=\"colab-df-convert\" onclick=\"convertToInteractive('df-9dcd66e4-f0a2-4dc9-9a7d-f859c75f6d46')\"\n",
              "            title=\"Convert this dataframe to an interactive table.\"\n",
              "            style=\"display:none;\">\n",
              "\n",
              "  <svg xmlns=\"http://www.w3.org/2000/svg\" height=\"24px\" viewBox=\"0 -960 960 960\">\n",
              "    <path d=\"M120-120v-720h720v720H120Zm60-500h600v-160H180v160Zm220 220h160v-160H400v160Zm0 220h160v-160H400v160ZM180-400h160v-160H180v160Zm440 0h160v-160H620v160ZM180-180h160v-160H180v160Zm440 0h160v-160H620v160Z\"/>\n",
              "  </svg>\n",
              "    </button>\n",
              "\n",
              "  <style>\n",
              "    .colab-df-container {\n",
              "      display:flex;\n",
              "      gap: 12px;\n",
              "    }\n",
              "\n",
              "    .colab-df-convert {\n",
              "      background-color: #E8F0FE;\n",
              "      border: none;\n",
              "      border-radius: 50%;\n",
              "      cursor: pointer;\n",
              "      display: none;\n",
              "      fill: #1967D2;\n",
              "      height: 32px;\n",
              "      padding: 0 0 0 0;\n",
              "      width: 32px;\n",
              "    }\n",
              "\n",
              "    .colab-df-convert:hover {\n",
              "      background-color: #E2EBFA;\n",
              "      box-shadow: 0px 1px 2px rgba(60, 64, 67, 0.3), 0px 1px 3px 1px rgba(60, 64, 67, 0.15);\n",
              "      fill: #174EA6;\n",
              "    }\n",
              "\n",
              "    .colab-df-buttons div {\n",
              "      margin-bottom: 4px;\n",
              "    }\n",
              "\n",
              "    [theme=dark] .colab-df-convert {\n",
              "      background-color: #3B4455;\n",
              "      fill: #D2E3FC;\n",
              "    }\n",
              "\n",
              "    [theme=dark] .colab-df-convert:hover {\n",
              "      background-color: #434B5C;\n",
              "      box-shadow: 0px 1px 3px 1px rgba(0, 0, 0, 0.15);\n",
              "      filter: drop-shadow(0px 1px 2px rgba(0, 0, 0, 0.3));\n",
              "      fill: #FFFFFF;\n",
              "    }\n",
              "  </style>\n",
              "\n",
              "    <script>\n",
              "      const buttonEl =\n",
              "        document.querySelector('#df-9dcd66e4-f0a2-4dc9-9a7d-f859c75f6d46 button.colab-df-convert');\n",
              "      buttonEl.style.display =\n",
              "        google.colab.kernel.accessAllowed ? 'block' : 'none';\n",
              "\n",
              "      async function convertToInteractive(key) {\n",
              "        const element = document.querySelector('#df-9dcd66e4-f0a2-4dc9-9a7d-f859c75f6d46');\n",
              "        const dataTable =\n",
              "          await google.colab.kernel.invokeFunction('convertToInteractive',\n",
              "                                                    [key], {});\n",
              "        if (!dataTable) return;\n",
              "\n",
              "        const docLinkHtml = 'Like what you see? Visit the ' +\n",
              "          '<a target=\"_blank\" href=https://colab.research.google.com/notebooks/data_table.ipynb>data table notebook</a>'\n",
              "          + ' to learn more about interactive tables.';\n",
              "        element.innerHTML = '';\n",
              "        dataTable['output_type'] = 'display_data';\n",
              "        await google.colab.output.renderOutput(dataTable, element);\n",
              "        const docLink = document.createElement('div');\n",
              "        docLink.innerHTML = docLinkHtml;\n",
              "        element.appendChild(docLink);\n",
              "      }\n",
              "    </script>\n",
              "  </div>\n",
              "\n",
              "\n",
              "<div id=\"df-19734c36-3486-4061-9ffe-7b673a2f6273\">\n",
              "  <button class=\"colab-df-quickchart\" onclick=\"quickchart('df-19734c36-3486-4061-9ffe-7b673a2f6273')\"\n",
              "            title=\"Suggest charts\"\n",
              "            style=\"display:none;\">\n",
              "\n",
              "<svg xmlns=\"http://www.w3.org/2000/svg\" height=\"24px\"viewBox=\"0 0 24 24\"\n",
              "     width=\"24px\">\n",
              "    <g>\n",
              "        <path d=\"M19 3H5c-1.1 0-2 .9-2 2v14c0 1.1.9 2 2 2h14c1.1 0 2-.9 2-2V5c0-1.1-.9-2-2-2zM9 17H7v-7h2v7zm4 0h-2V7h2v10zm4 0h-2v-4h2v4z\"/>\n",
              "    </g>\n",
              "</svg>\n",
              "  </button>\n",
              "\n",
              "<style>\n",
              "  .colab-df-quickchart {\n",
              "      --bg-color: #E8F0FE;\n",
              "      --fill-color: #1967D2;\n",
              "      --hover-bg-color: #E2EBFA;\n",
              "      --hover-fill-color: #174EA6;\n",
              "      --disabled-fill-color: #AAA;\n",
              "      --disabled-bg-color: #DDD;\n",
              "  }\n",
              "\n",
              "  [theme=dark] .colab-df-quickchart {\n",
              "      --bg-color: #3B4455;\n",
              "      --fill-color: #D2E3FC;\n",
              "      --hover-bg-color: #434B5C;\n",
              "      --hover-fill-color: #FFFFFF;\n",
              "      --disabled-bg-color: #3B4455;\n",
              "      --disabled-fill-color: #666;\n",
              "  }\n",
              "\n",
              "  .colab-df-quickchart {\n",
              "    background-color: var(--bg-color);\n",
              "    border: none;\n",
              "    border-radius: 50%;\n",
              "    cursor: pointer;\n",
              "    display: none;\n",
              "    fill: var(--fill-color);\n",
              "    height: 32px;\n",
              "    padding: 0;\n",
              "    width: 32px;\n",
              "  }\n",
              "\n",
              "  .colab-df-quickchart:hover {\n",
              "    background-color: var(--hover-bg-color);\n",
              "    box-shadow: 0 1px 2px rgba(60, 64, 67, 0.3), 0 1px 3px 1px rgba(60, 64, 67, 0.15);\n",
              "    fill: var(--button-hover-fill-color);\n",
              "  }\n",
              "\n",
              "  .colab-df-quickchart-complete:disabled,\n",
              "  .colab-df-quickchart-complete:disabled:hover {\n",
              "    background-color: var(--disabled-bg-color);\n",
              "    fill: var(--disabled-fill-color);\n",
              "    box-shadow: none;\n",
              "  }\n",
              "\n",
              "  .colab-df-spinner {\n",
              "    border: 2px solid var(--fill-color);\n",
              "    border-color: transparent;\n",
              "    border-bottom-color: var(--fill-color);\n",
              "    animation:\n",
              "      spin 1s steps(1) infinite;\n",
              "  }\n",
              "\n",
              "  @keyframes spin {\n",
              "    0% {\n",
              "      border-color: transparent;\n",
              "      border-bottom-color: var(--fill-color);\n",
              "      border-left-color: var(--fill-color);\n",
              "    }\n",
              "    20% {\n",
              "      border-color: transparent;\n",
              "      border-left-color: var(--fill-color);\n",
              "      border-top-color: var(--fill-color);\n",
              "    }\n",
              "    30% {\n",
              "      border-color: transparent;\n",
              "      border-left-color: var(--fill-color);\n",
              "      border-top-color: var(--fill-color);\n",
              "      border-right-color: var(--fill-color);\n",
              "    }\n",
              "    40% {\n",
              "      border-color: transparent;\n",
              "      border-right-color: var(--fill-color);\n",
              "      border-top-color: var(--fill-color);\n",
              "    }\n",
              "    60% {\n",
              "      border-color: transparent;\n",
              "      border-right-color: var(--fill-color);\n",
              "    }\n",
              "    80% {\n",
              "      border-color: transparent;\n",
              "      border-right-color: var(--fill-color);\n",
              "      border-bottom-color: var(--fill-color);\n",
              "    }\n",
              "    90% {\n",
              "      border-color: transparent;\n",
              "      border-bottom-color: var(--fill-color);\n",
              "    }\n",
              "  }\n",
              "</style>\n",
              "\n",
              "  <script>\n",
              "    async function quickchart(key) {\n",
              "      const quickchartButtonEl =\n",
              "        document.querySelector('#' + key + ' button');\n",
              "      quickchartButtonEl.disabled = true;  // To prevent multiple clicks.\n",
              "      quickchartButtonEl.classList.add('colab-df-spinner');\n",
              "      try {\n",
              "        const charts = await google.colab.kernel.invokeFunction(\n",
              "            'suggestCharts', [key], {});\n",
              "      } catch (error) {\n",
              "        console.error('Error during call to suggestCharts:', error);\n",
              "      }\n",
              "      quickchartButtonEl.classList.remove('colab-df-spinner');\n",
              "      quickchartButtonEl.classList.add('colab-df-quickchart-complete');\n",
              "    }\n",
              "    (() => {\n",
              "      let quickchartButtonEl =\n",
              "        document.querySelector('#df-19734c36-3486-4061-9ffe-7b673a2f6273 button');\n",
              "      quickchartButtonEl.style.display =\n",
              "        google.colab.kernel.accessAllowed ? 'block' : 'none';\n",
              "    })();\n",
              "  </script>\n",
              "</div>\n",
              "\n",
              "    </div>\n",
              "  </div>\n"
            ],
            "application/vnd.google.colaboratory.intrinsic+json": {
              "type": "dataframe"
            }
          },
          "metadata": {},
          "execution_count": 3
        }
      ],
      "source": [
        "df[:3]"
      ]
    },
    {
      "cell_type": "markdown",
      "metadata": {
        "id": "2i_yGkkUs3QA"
      },
      "source": [
        "# Estadística descriptiva\n",
        "\n",
        "Hemos estado organizando y visualizando los datos de distintas maneras, pero ¿qué intuiciones podemos obtener?\n",
        "\n",
        "Las visualizaciones como histogramas o gráficos de conteo muestran la cantidad de veces que se observa cada valor en un conjunto de realizaciones de una variable aleatoria. Esto se denomina análisis de frecuencia, y es parte de la **estadística descriptiva**.\n",
        "\n",
        "El uso de visualizaciones nos limita a estimaciones, pero los datos crudos son demasiado como para intepretarlos en conjunto. Para eso, la estadística descriptiva provee también medidas de tendencia central y de dispersión, que resumen en un valor numérico propiedades de las realizaciones de la variable.\n",
        "\n",
        "Retomemos el problema original con la v.a. `salary_monthly_BRUTO`, ¿qué información brindan las siguientes métricas y cómo usarlas?\n"
      ]
    },
    {
      "cell_type": "code",
      "execution_count": null,
      "metadata": {
        "id": "AXFDG0eBPDgH",
        "colab": {
          "base_uri": "https://localhost:8080/"
        },
        "outputId": "e99b2aea-6c53-4877-e349-5373f6305a8f"
      },
      "outputs": [
        {
          "output_type": "stream",
          "name": "stdout",
          "text": [
            "Máximo 13500000.0 Mínimo 150000.0\n"
          ]
        }
      ],
      "source": [
        "salary_col='salary_monthly_BRUTO'\n",
        "#salary_col='salary_monthly_NETO'\n",
        "df2= df[df[salary_col] < 15000000]\n",
        "print('Máximo',max(df2[salary_col]),'Mínimo',min(df2[salary_col]))"
      ]
    },
    {
      "cell_type": "code",
      "execution_count": null,
      "metadata": {
        "colab": {
          "base_uri": "https://localhost:8080/",
          "height": 334
        },
        "id": "fHre-H9euQv4",
        "outputId": "4ddd4d0c-65db-4c21-e97c-9192d56e7381"
      },
      "outputs": [
        {
          "output_type": "execute_result",
          "data": {
            "text/plain": [
              "count        5196.00\n",
              "mean      2728422.73\n",
              "std       1780241.38\n",
              "min        150000.00\n",
              "25%       1500000.00\n",
              "50%       2290000.00\n",
              "75%       3500000.00\n",
              "max      13500000.00\n",
              "Name: salary_monthly_BRUTO, dtype: object"
            ],
            "text/html": [
              "<div>\n",
              "<style scoped>\n",
              "    .dataframe tbody tr th:only-of-type {\n",
              "        vertical-align: middle;\n",
              "    }\n",
              "\n",
              "    .dataframe tbody tr th {\n",
              "        vertical-align: top;\n",
              "    }\n",
              "\n",
              "    .dataframe thead th {\n",
              "        text-align: right;\n",
              "    }\n",
              "</style>\n",
              "<table border=\"1\" class=\"dataframe\">\n",
              "  <thead>\n",
              "    <tr style=\"text-align: right;\">\n",
              "      <th></th>\n",
              "      <th>salary_monthly_BRUTO</th>\n",
              "    </tr>\n",
              "  </thead>\n",
              "  <tbody>\n",
              "    <tr>\n",
              "      <th>count</th>\n",
              "      <td>5196.00</td>\n",
              "    </tr>\n",
              "    <tr>\n",
              "      <th>mean</th>\n",
              "      <td>2728422.73</td>\n",
              "    </tr>\n",
              "    <tr>\n",
              "      <th>std</th>\n",
              "      <td>1780241.38</td>\n",
              "    </tr>\n",
              "    <tr>\n",
              "      <th>min</th>\n",
              "      <td>150000.00</td>\n",
              "    </tr>\n",
              "    <tr>\n",
              "      <th>25%</th>\n",
              "      <td>1500000.00</td>\n",
              "    </tr>\n",
              "    <tr>\n",
              "      <th>50%</th>\n",
              "      <td>2290000.00</td>\n",
              "    </tr>\n",
              "    <tr>\n",
              "      <th>75%</th>\n",
              "      <td>3500000.00</td>\n",
              "    </tr>\n",
              "    <tr>\n",
              "      <th>max</th>\n",
              "      <td>13500000.00</td>\n",
              "    </tr>\n",
              "  </tbody>\n",
              "</table>\n",
              "</div><br><label><b>dtype:</b> object</label>"
            ]
          },
          "metadata": {},
          "execution_count": 5
        }
      ],
      "source": [
        "df2[salary_col].describe().apply(lambda s: '{0:.2f}'.format(s))"
      ]
    },
    {
      "cell_type": "code",
      "source": [
        "print('{0:.2f}'.format(df2['salary_monthly_NETO'].mean()))"
      ],
      "metadata": {
        "colab": {
          "base_uri": "https://localhost:8080/"
        },
        "id": "k5mV_lMZ2Y5s",
        "outputId": "afb88e57-e0c3-4f4f-a885-b42250fe9325"
      },
      "execution_count": null,
      "outputs": [
        {
          "output_type": "stream",
          "name": "stdout",
          "text": [
            "2295041.00\n"
          ]
        }
      ]
    },
    {
      "cell_type": "markdown",
      "metadata": {
        "id": "QC-wJbBitzDH"
      },
      "source": [
        "## Medidas de tendencia central\n",
        "\n",
        "Cuando se quiere obtener un valor representativo de todas las realizaciones de una v.a., o su centro, se utiliza una *medida de tendencia central*.\n",
        "\n",
        "Repasando, dada una característica de interés (modelada por X v.a.) y un conjunto de observaciones $x = \\{ x_1, x_2 ... \\}$ donde $x_i = X(\\omega_i)$ para algún $\\omega_i \\in \\Omega$, y $N = |x|$:\n",
        "\n",
        "* La **media muestral** (aritmética) o promedio se calcula como:\n",
        "\n",
        "$$ \\bar{x} = \\frac{1}{N} \\sum_i^N x_i $$\n",
        "\n",
        "* La **mediana** se calcula:\n",
        "  1. Ordenar las realizaciones tal que $x_j \\leq x_{j+1}$\n",
        "  2. Si la cantidad de datos $N$ es impar, la mediana es el valor central: $median = x_{\\lfloor N / 2 \\rfloor +1}$\n",
        "  3. Si la cantidad de datos $N$ es par, la mediana es e promedio de los dos valores centrales: $median = \\frac{1}{2} (x_{ N / 2 } + x_{ (N / 2) +1})$\n",
        "\n",
        "* La **moda** son los valores o él valor con mayor frecuencia, es decir, los o él que más se repite.\n"
      ]
    },
    {
      "cell_type": "code",
      "execution_count": null,
      "metadata": {
        "colab": {
          "base_uri": "https://localhost:8080/"
        },
        "id": "VGJfjf-x5TOh",
        "outputId": "15a8a86f-ef0b-44b3-bb32-40e0b29333f2"
      },
      "outputs": [
        {
          "output_type": "stream",
          "name": "stdout",
          "text": [
            "media 2728422.73\n",
            "mediana 2290000.00\n"
          ]
        }
      ],
      "source": [
        "print('media','{0:.2f}'.format(df2[salary_col].mean()))\n",
        "print('mediana','{0:.2f}'.format(df2[salary_col].median()))"
      ]
    },
    {
      "cell_type": "markdown",
      "metadata": {
        "id": "hDltOaTjnuFd"
      },
      "source": [
        "**¿Por qué las dos medidas son tan distintas?**\n",
        "\n",
        "* La media se puede interpretar como el *centro de masa* del histograma. Es decir, si el histograma fuera una figura de madera, el punto de equilibrio donde podemos apoyarlo y no se cae es la media.\n",
        "* La media es muy sensible a valores extremos.\n",
        "* La mediana es más robusta a valores extremos.\n",
        "* Si la distribución de los datos es simétrica, las medidas coinciden. (Luego, si no coinciden es porque la distribución no es simétrica)\n",
        "\n",
        "**¿Se cumple para estos datos?**"
      ]
    },
    {
      "cell_type": "code",
      "execution_count": null,
      "metadata": {
        "colab": {
          "base_uri": "https://localhost:8080/"
        },
        "id": "woWeBF8-0u5Q",
        "outputId": "e7cb68f0-8532-46d3-85cc-ed137afe2874"
      },
      "outputs": [
        {
          "output_type": "stream",
          "name": "stdout",
          "text": [
            "Max Salary: 13500000.00, Mean: 2726349.28, Median: 2290000.00\n",
            "Max Salary: 10000000.00, Mean: 2671114.82, Median: 2266950.00\n",
            "Max Salary: 5000000.00, Mean: 2259790.13, Median: 2100000.00\n",
            "Max Salary: 4000000.00, Mean: 2039391.62, Median: 1989000.00\n",
            "Max Salary: 3000000.00, Mean: 1733631.90, Median: 1720000.00\n",
            "Max Salary: 2000000.00, Mean: 1315682.04, Median: 1355236.00\n"
          ]
        }
      ],
      "source": [
        "salary_col='salary_monthly_BRUTO'\n",
        "\n",
        "max_salaries = [df2[salary_col].max(), 10**7, 5000000, 4000000, 3000000, 2000000]\n",
        "central_tendency = [\n",
        "    (max_salary, df2[df2[salary_col] < max_salary][salary_col].mean(),\n",
        "     df2[df2[salary_col] < max_salary][salary_col].median())\n",
        "    for max_salary in max_salaries\n",
        "]\n",
        "# Iterate through the central_tendency list and format individual elements\n",
        "for item in central_tendency:\n",
        "    print(\"Max Salary: {0:.2f}, Mean: {1:.2f}, Median: {2:.2f}\".format(item[0], item[1], item[2]))"
      ]
    },
    {
      "cell_type": "markdown",
      "metadata": {
        "id": "EZrjSY4yPV8-"
      },
      "source": [
        "Se pueden graficar estos números para lograr una mejor intuición de la magnitud de las diferencias. Además, al mostrar una visualización se pueden incluir más puntos.\n",
        "\n",
        "Para poder crear gráficos de seaborn con distintos grupos de datos, muchas veces es necesario cambiar el formato del dataframe de wide a long. Ver [este link](https://anvil.works/blog/tidy-data) para más información."
      ]
    },
    {
      "cell_type": "code",
      "execution_count": null,
      "metadata": {
        "colab": {
          "base_uri": "https://localhost:8080/"
        },
        "id": "MpMJWSNq3Xq_",
        "outputId": "b780aa8c-6900-4360-c244-d9c0b926937a"
      },
      "outputs": [
        {
          "output_type": "stream",
          "name": "stdout",
          "text": [
            "    max_salary  metric      value\n",
            "0      1500000    mean 1032764.28\n",
            "1      2500000    mean 1547309.86\n",
            "2      3500000    mean 1904297.33\n",
            "3      4500000    mean 2163076.75\n",
            "4      5500000    mean 2348302.86\n",
            "5      6500000    mean 2469639.16\n",
            "6      7500000    mean 2562873.32\n",
            "7      8500000    mean 2625027.82\n",
            "8      9500000    mean 2666981.11\n",
            "9     10500000    mean 2691075.34\n",
            "10    11500000    mean 2702086.82\n",
            "11    12500000    mean 2714521.47\n",
            "12     1500000  median 1086520.50\n",
            "13     2500000  median 1598063.00\n",
            "14     3500000  median 1874454.50\n",
            "15     4500000  median 2000000.00\n",
            "16     5500000  median 2140415.00\n",
            "17     6500000  median 2200000.00\n",
            "18     7500000  median 2200009.00\n",
            "19     8500000  median 2244028.00\n",
            "20     9500000  median 2260000.00\n",
            "21    10500000  median 2280147.57\n",
            "22    11500000  median 2287000.00\n",
            "23    12500000  median 2289157.00\n"
          ]
        }
      ],
      "source": [
        "central_tendency_max = [\n",
        "    (max_salary, df2[df2[salary_col] < max_salary][salary_col].mean(),\n",
        "     df2[df2[salary_col] < max_salary][salary_col].median())\n",
        "    for max_salary in range(1500000, int(df2[salary_col].max()), 10**6)\n",
        "]\n",
        "central_tendency_max_df = pd.DataFrame(central_tendency_max,\n",
        "                                   columns=['max_salary', 'mean', 'median'])\\\n",
        "  .melt(id_vars='max_salary', var_name='metric')\n",
        "\n",
        "print(central_tendency_max_df)"
      ]
    },
    {
      "cell_type": "code",
      "execution_count": null,
      "metadata": {
        "colab": {
          "base_uri": "https://localhost:8080/",
          "height": 450
        },
        "id": "rJQfOlKV15Z4",
        "outputId": "acf8e8e1-b3ca-426e-b690-5583c5fa3218"
      },
      "outputs": [
        {
          "output_type": "display_data",
          "data": {
            "text/plain": [
              "<Figure size 1500x500 with 1 Axes>"
            ],
            "image/png": "[encoded data removed]"
          },
          "metadata": {}
        }
      ],
      "source": [
        "# ¡Podemos ver estos datos visualmente! valga la redundancia!!\n",
        "fig = plt.figure(figsize=(15, 5))\n",
        "seaborn.lineplot(data=central_tendency_max_df, x='max_salary', y='value', hue='metric')\n",
        "plt.ticklabel_format(style='plain', axis='x')\n",
        "seaborn.despine()"
      ]
    },
    {
      "cell_type": "code",
      "execution_count": null,
      "metadata": {
        "colab": {
          "base_uri": "https://localhost:8080/",
          "height": 752
        },
        "id": "mSyyNgvndRPQ",
        "outputId": "9b1a6c76-c69d-4246-aac3-bebd06d97955"
      },
      "outputs": [
        {
          "output_type": "display_data",
          "data": {
            "text/plain": [
              "<Figure size 1600x1000 with 2 Axes>"
            ],
            "image/png": "[encoded data removed]"
          },
          "metadata": {}
        }
      ],
      "source": [
        "## La diferencia no siempre se aprecia en los gráficos\n",
        "fig, axes = plt.subplots(nrows=2, figsize=(16, 10))\n",
        "\n",
        "seaborn.histplot(df[salary_col], bins=100, ax=axes[0], color='gray')\n",
        "axes[0].axvline(df[salary_col].mean(), color='orangered',\n",
        "            linestyle='--', label='Media')\n",
        "axes[0].axvline(df[salary_col].median(), color='indigo',\n",
        "            linestyle='-.', label='Mediana')\n",
        "\n",
        "\n",
        "filtered_df = df[df[salary_col] < 15000000]\n",
        "seaborn.histplot(filtered_df[salary_col], bins=100, ax=axes[1], color='gray')\n",
        "axes[1].axvline(filtered_df[salary_col].mean(), color='orangered',\n",
        "            linestyle='--', label='Media')\n",
        "axes[1].axvline(filtered_df[salary_col].median(), color='indigo',\n",
        "            linestyle='-.', label='Mediana')\n",
        "\n",
        "axes[0].legend()\n",
        "seaborn.despine()"
      ]
    },
    {
      "cell_type": "markdown",
      "metadata": {
        "id": "3MdG-7bK8AKR"
      },
      "source": [
        "¿Qué decir de la moda?"
      ]
    },
    {
      "cell_type": "code",
      "execution_count": null,
      "metadata": {
        "colab": {
          "base_uri": "https://localhost:8080/",
          "height": 115
        },
        "id": "r01xw1q18AmV",
        "outputId": "b474b05e-753e-4d19-c08e-c1b5bc70657b"
      },
      "outputs": [
        {
          "output_type": "execute_result",
          "data": {
            "text/plain": [
              "0    Hombre Cis\n",
              "Name: profile_gender, dtype: object"
            ],
            "text/html": [
              "<div>\n",
              "<style scoped>\n",
              "    .dataframe tbody tr th:only-of-type {\n",
              "        vertical-align: middle;\n",
              "    }\n",
              "\n",
              "    .dataframe tbody tr th {\n",
              "        vertical-align: top;\n",
              "    }\n",
              "\n",
              "    .dataframe thead th {\n",
              "        text-align: right;\n",
              "    }\n",
              "</style>\n",
              "<table border=\"1\" class=\"dataframe\">\n",
              "  <thead>\n",
              "    <tr style=\"text-align: right;\">\n",
              "      <th></th>\n",
              "      <th>profile_gender</th>\n",
              "    </tr>\n",
              "  </thead>\n",
              "  <tbody>\n",
              "    <tr>\n",
              "      <th>0</th>\n",
              "      <td>Hombre Cis</td>\n",
              "    </tr>\n",
              "  </tbody>\n",
              "</table>\n",
              "</div><br><label><b>dtype:</b> object</label>"
            ]
          },
          "metadata": {},
          "execution_count": 12
        }
      ],
      "source": [
        "df.profile_gender.mode()"
      ]
    },
    {
      "cell_type": "code",
      "source": [
        "df.profile_gender.describe()"
      ],
      "metadata": {
        "colab": {
          "base_uri": "https://localhost:8080/",
          "height": 209
        },
        "id": "T8clvrb-oiCn",
        "outputId": "45490370-22c3-4fc3-cf6f-7ffc4afd9fe5"
      },
      "execution_count": null,
      "outputs": [
        {
          "output_type": "execute_result",
          "data": {
            "text/plain": [
              "count           5194\n",
              "unique             8\n",
              "top       Hombre Cis\n",
              "freq            4083\n",
              "Name: profile_gender, dtype: object"
            ],
            "text/html": [
              "<div>\n",
              "<style scoped>\n",
              "    .dataframe tbody tr th:only-of-type {\n",
              "        vertical-align: middle;\n",
              "    }\n",
              "\n",
              "    .dataframe tbody tr th {\n",
              "        vertical-align: top;\n",
              "    }\n",
              "\n",
              "    .dataframe thead th {\n",
              "        text-align: right;\n",
              "    }\n",
              "</style>\n",
              "<table border=\"1\" class=\"dataframe\">\n",
              "  <thead>\n",
              "    <tr style=\"text-align: right;\">\n",
              "      <th></th>\n",
              "      <th>profile_gender</th>\n",
              "    </tr>\n",
              "  </thead>\n",
              "  <tbody>\n",
              "    <tr>\n",
              "      <th>count</th>\n",
              "      <td>5194</td>\n",
              "    </tr>\n",
              "    <tr>\n",
              "      <th>unique</th>\n",
              "      <td>8</td>\n",
              "    </tr>\n",
              "    <tr>\n",
              "      <th>top</th>\n",
              "      <td>Hombre Cis</td>\n",
              "    </tr>\n",
              "    <tr>\n",
              "      <th>freq</th>\n",
              "      <td>4083</td>\n",
              "    </tr>\n",
              "  </tbody>\n",
              "</table>\n",
              "</div><br><label><b>dtype:</b> object</label>"
            ]
          },
          "metadata": {},
          "execution_count": 13
        }
      ]
    },
    {
      "cell_type": "code",
      "source": [
        "df.profile_age.describe()"
      ],
      "metadata": {
        "colab": {
          "base_uri": "https://localhost:8080/",
          "height": 334
        },
        "id": "kMuqhaUEqaZt",
        "outputId": "8a545675-7ef2-4c7b-d2d0-a202443477e4"
      },
      "execution_count": null,
      "outputs": [
        {
          "output_type": "execute_result",
          "data": {
            "text/plain": [
              "count   5196.00\n",
              "mean      36.57\n",
              "std       45.32\n",
              "min       19.00\n",
              "25%       29.00\n",
              "50%       35.00\n",
              "75%       41.00\n",
              "max     3040.00\n",
              "Name: profile_age, dtype: float64"
            ],
            "text/html": [
              "<div>\n",
              "<style scoped>\n",
              "    .dataframe tbody tr th:only-of-type {\n",
              "        vertical-align: middle;\n",
              "    }\n",
              "\n",
              "    .dataframe tbody tr th {\n",
              "        vertical-align: top;\n",
              "    }\n",
              "\n",
              "    .dataframe thead th {\n",
              "        text-align: right;\n",
              "    }\n",
              "</style>\n",
              "<table border=\"1\" class=\"dataframe\">\n",
              "  <thead>\n",
              "    <tr style=\"text-align: right;\">\n",
              "      <th></th>\n",
              "      <th>profile_age</th>\n",
              "    </tr>\n",
              "  </thead>\n",
              "  <tbody>\n",
              "    <tr>\n",
              "      <th>count</th>\n",
              "      <td>5196.00</td>\n",
              "    </tr>\n",
              "    <tr>\n",
              "      <th>mean</th>\n",
              "      <td>36.57</td>\n",
              "    </tr>\n",
              "    <tr>\n",
              "      <th>std</th>\n",
              "      <td>45.32</td>\n",
              "    </tr>\n",
              "    <tr>\n",
              "      <th>min</th>\n",
              "      <td>19.00</td>\n",
              "    </tr>\n",
              "    <tr>\n",
              "      <th>25%</th>\n",
              "      <td>29.00</td>\n",
              "    </tr>\n",
              "    <tr>\n",
              "      <th>50%</th>\n",
              "      <td>35.00</td>\n",
              "    </tr>\n",
              "    <tr>\n",
              "      <th>75%</th>\n",
              "      <td>41.00</td>\n",
              "    </tr>\n",
              "    <tr>\n",
              "      <th>max</th>\n",
              "      <td>3040.00</td>\n",
              "    </tr>\n",
              "  </tbody>\n",
              "</table>\n",
              "</div><br><label><b>dtype:</b> float64</label>"
            ]
          },
          "metadata": {},
          "execution_count": 14
        }
      ]
    },
    {
      "cell_type": "markdown",
      "metadata": {
        "id": "Li3vLv3X8k7Z"
      },
      "source": [
        "## Medidas de dispersión\n",
        "\n",
        "Las medidas de dispersión vistas en el teórico son la desviación estándar, la varianza, y el coeficiente de variación. También permiten representar con un número alguna propiedad de los datos.\n",
        "\n",
        "Por ejemplo, comparemos el salario neto con el salario bruto. A priori, **¿deberíamos ver alguna diferencia?**"
      ]
    },
    {
      "cell_type": "code",
      "execution_count": null,
      "metadata": {
        "colab": {
          "base_uri": "https://localhost:8080/",
          "height": 300
        },
        "id": "504NtuJWjpX0",
        "outputId": "1e0f9560-1580-4795-90f5-a1f79d9d08be"
      },
      "outputs": [
        {
          "output_type": "execute_result",
          "data": {
            "text/plain": [
              "       salary_monthly_NETO  salary_monthly_BRUTO\n",
              "count              4951.00               5196.00\n",
              "mean        10725497332.62            2728422.73\n",
              "std        754512234786.43            1780241.38\n",
              "min                   4.00             150000.00\n",
              "25%             1288264.50            1500000.00\n",
              "50%             1916958.00            2290000.00\n",
              "75%             2893500.00            3500000.00\n",
              "max      53090005379000.00           13500000.00"
            ],
            "text/html": [
              "\n",
              "  <div id=\"df-43957064-eb2c-4317-9860-7271fd0ce6bd\" class=\"colab-df-container\">\n",
              "    <div>\n",
              "<style scoped>\n",
              "    .dataframe tbody tr th:only-of-type {\n",
              "        vertical-align: middle;\n",
              "    }\n",
              "\n",
              "    .dataframe tbody tr th {\n",
              "        vertical-align: top;\n",
              "    }\n",
              "\n",
              "    .dataframe thead th {\n",
              "        text-align: right;\n",
              "    }\n",
              "</style>\n",
              "<table border=\"1\" class=\"dataframe\">\n",
              "  <thead>\n",
              "    <tr style=\"text-align: right;\">\n",
              "      <th></th>\n",
              "      <th>salary_monthly_NETO</th>\n",
              "      <th>salary_monthly_BRUTO</th>\n",
              "    </tr>\n",
              "  </thead>\n",
              "  <tbody>\n",
              "    <tr>\n",
              "      <th>count</th>\n",
              "      <td>4951.00</td>\n",
              "      <td>5196.00</td>\n",
              "    </tr>\n",
              "    <tr>\n",
              "      <th>mean</th>\n",
              "      <td>10725497332.62</td>\n",
              "      <td>2728422.73</td>\n",
              "    </tr>\n",
              "    <tr>\n",
              "      <th>std</th>\n",
              "      <td>754512234786.43</td>\n",
              "      <td>1780241.38</td>\n",
              "    </tr>\n",
              "    <tr>\n",
              "      <th>min</th>\n",
              "      <td>4.00</td>\n",
              "      <td>150000.00</td>\n",
              "    </tr>\n",
              "    <tr>\n",
              "      <th>25%</th>\n",
              "      <td>1288264.50</td>\n",
              "      <td>1500000.00</td>\n",
              "    </tr>\n",
              "    <tr>\n",
              "      <th>50%</th>\n",
              "      <td>1916958.00</td>\n",
              "      <td>2290000.00</td>\n",
              "    </tr>\n",
              "    <tr>\n",
              "      <th>75%</th>\n",
              "      <td>2893500.00</td>\n",
              "      <td>3500000.00</td>\n",
              "    </tr>\n",
              "    <tr>\n",
              "      <th>max</th>\n",
              "      <td>53090005379000.00</td>\n",
              "      <td>13500000.00</td>\n",
              "    </tr>\n",
              "  </tbody>\n",
              "</table>\n",
              "</div>\n",
              "    <div class=\"colab-df-buttons\">\n",
              "\n",
              "  <div class=\"colab-df-container\">\n",
              "    <button class=\"colab-df-convert\" onclick=\"convertToInteractive('df-43957064-eb2c-4317-9860-7271fd0ce6bd')\"\n",
              "            title=\"Convert this dataframe to an interactive table.\"\n",
              "            style=\"display:none;\">\n",
              "\n",
              "  <svg xmlns=\"http://www.w3.org/2000/svg\" height=\"24px\" viewBox=\"0 -960 960 960\">\n",
              "    <path d=\"M120-120v-720h720v720H120Zm60-500h600v-160H180v160Zm220 220h160v-160H400v160Zm0 220h160v-160H400v160ZM180-400h160v-160H180v160Zm440 0h160v-160H620v160ZM180-180h160v-160H180v160Zm440 0h160v-160H620v160Z\"/>\n",
              "  </svg>\n",
              "    </button>\n",
              "\n",
              "  <style>\n",
              "    .colab-df-container {\n",
              "      display:flex;\n",
              "      gap: 12px;\n",
              "    }\n",
              "\n",
              "    .colab-df-convert {\n",
              "      background-color: #E8F0FE;\n",
              "      border: none;\n",
              "      border-radius: 50%;\n",
              "      cursor: pointer;\n",
              "      display: none;\n",
              "      fill: #1967D2;\n",
              "      height: 32px;\n",
              "      padding: 0 0 0 0;\n",
              "      width: 32px;\n",
              "    }\n",
              "\n",
              "    .colab-df-convert:hover {\n",
              "      background-color: #E2EBFA;\n",
              "      box-shadow: 0px 1px 2px rgba(60, 64, 67, 0.3), 0px 1px 3px 1px rgba(60, 64, 67, 0.15);\n",
              "      fill: #174EA6;\n",
              "    }\n",
              "\n",
              "    .colab-df-buttons div {\n",
              "      margin-bottom: 4px;\n",
              "    }\n",
              "\n",
              "    [theme=dark] .colab-df-convert {\n",
              "      background-color: #3B4455;\n",
              "      fill: #D2E3FC;\n",
              "    }\n",
              "\n",
              "    [theme=dark] .colab-df-convert:hover {\n",
              "      background-color: #434B5C;\n",
              "      box-shadow: 0px 1px 3px 1px rgba(0, 0, 0, 0.15);\n",
              "      filter: drop-shadow(0px 1px 2px rgba(0, 0, 0, 0.3));\n",
              "      fill: #FFFFFF;\n",
              "    }\n",
              "  </style>\n",
              "\n",
              "    <script>\n",
              "      const buttonEl =\n",
              "        document.querySelector('#df-43957064-eb2c-4317-9860-7271fd0ce6bd button.colab-df-convert');\n",
              "      buttonEl.style.display =\n",
              "        google.colab.kernel.accessAllowed ? 'block' : 'none';\n",
              "\n",
              "      async function convertToInteractive(key) {\n",
              "        const element = document.querySelector('#df-43957064-eb2c-4317-9860-7271fd0ce6bd');\n",
              "        const dataTable =\n",
              "          await google.colab.kernel.invokeFunction('convertToInteractive',\n",
              "                                                    [key], {});\n",
              "        if (!dataTable) return;\n",
              "\n",
              "        const docLinkHtml = 'Like what you see? Visit the ' +\n",
              "          '<a target=\"_blank\" href=https://colab.research.google.com/notebooks/data_table.ipynb>data table notebook</a>'\n",
              "          + ' to learn more about interactive tables.';\n",
              "        element.innerHTML = '';\n",
              "        dataTable['output_type'] = 'display_data';\n",
              "        await google.colab.output.renderOutput(dataTable, element);\n",
              "        const docLink = document.createElement('div');\n",
              "        docLink.innerHTML = docLinkHtml;\n",
              "        element.appendChild(docLink);\n",
              "      }\n",
              "    </script>\n",
              "  </div>\n",
              "\n",
              "\n",
              "<div id=\"df-9a0ea607-81ff-4831-a885-4cf07bf584cb\">\n",
              "  <button class=\"colab-df-quickchart\" onclick=\"quickchart('df-9a0ea607-81ff-4831-a885-4cf07bf584cb')\"\n",
              "            title=\"Suggest charts\"\n",
              "            style=\"display:none;\">\n",
              "\n",
              "<svg xmlns=\"http://www.w3.org/2000/svg\" height=\"24px\"viewBox=\"0 0 24 24\"\n",
              "     width=\"24px\">\n",
              "    <g>\n",
              "        <path d=\"M19 3H5c-1.1 0-2 .9-2 2v14c0 1.1.9 2 2 2h14c1.1 0 2-.9 2-2V5c0-1.1-.9-2-2-2zM9 17H7v-7h2v7zm4 0h-2V7h2v10zm4 0h-2v-4h2v4z\"/>\n",
              "    </g>\n",
              "</svg>\n",
              "  </button>\n",
              "\n",
              "<style>\n",
              "  .colab-df-quickchart {\n",
              "      --bg-color: #E8F0FE;\n",
              "      --fill-color: #1967D2;\n",
              "      --hover-bg-color: #E2EBFA;\n",
              "      --hover-fill-color: #174EA6;\n",
              "      --disabled-fill-color: #AAA;\n",
              "      --disabled-bg-color: #DDD;\n",
              "  }\n",
              "\n",
              "  [theme=dark] .colab-df-quickchart {\n",
              "      --bg-color: #3B4455;\n",
              "      --fill-color: #D2E3FC;\n",
              "      --hover-bg-color: #434B5C;\n",
              "      --hover-fill-color: #FFFFFF;\n",
              "      --disabled-bg-color: #3B4455;\n",
              "      --disabled-fill-color: #666;\n",
              "  }\n",
              "\n",
              "  .colab-df-quickchart {\n",
              "    background-color: var(--bg-color);\n",
              "    border: none;\n",
              "    border-radius: 50%;\n",
              "    cursor: pointer;\n",
              "    display: none;\n",
              "    fill: var(--fill-color);\n",
              "    height: 32px;\n",
              "    padding: 0;\n",
              "    width: 32px;\n",
              "  }\n",
              "\n",
              "  .colab-df-quickchart:hover {\n",
              "    background-color: var(--hover-bg-color);\n",
              "    box-shadow: 0 1px 2px rgba(60, 64, 67, 0.3), 0 1px 3px 1px rgba(60, 64, 67, 0.15);\n",
              "    fill: var(--button-hover-fill-color);\n",
              "  }\n",
              "\n",
              "  .colab-df-quickchart-complete:disabled,\n",
              "  .colab-df-quickchart-complete:disabled:hover {\n",
              "    background-color: var(--disabled-bg-color);\n",
              "    fill: var(--disabled-fill-color);\n",
              "    box-shadow: none;\n",
              "  }\n",
              "\n",
              "  .colab-df-spinner {\n",
              "    border: 2px solid var(--fill-color);\n",
              "    border-color: transparent;\n",
              "    border-bottom-color: var(--fill-color);\n",
              "    animation:\n",
              "      spin 1s steps(1) infinite;\n",
              "  }\n",
              "\n",
              "  @keyframes spin {\n",
              "    0% {\n",
              "      border-color: transparent;\n",
              "      border-bottom-color: var(--fill-color);\n",
              "      border-left-color: var(--fill-color);\n",
              "    }\n",
              "    20% {\n",
              "      border-color: transparent;\n",
              "      border-left-color: var(--fill-color);\n",
              "      border-top-color: var(--fill-color);\n",
              "    }\n",
              "    30% {\n",
              "      border-color: transparent;\n",
              "      border-left-color: var(--fill-color);\n",
              "      border-top-color: var(--fill-color);\n",
              "      border-right-color: var(--fill-color);\n",
              "    }\n",
              "    40% {\n",
              "      border-color: transparent;\n",
              "      border-right-color: var(--fill-color);\n",
              "      border-top-color: var(--fill-color);\n",
              "    }\n",
              "    60% {\n",
              "      border-color: transparent;\n",
              "      border-right-color: var(--fill-color);\n",
              "    }\n",
              "    80% {\n",
              "      border-color: transparent;\n",
              "      border-right-color: var(--fill-color);\n",
              "      border-bottom-color: var(--fill-color);\n",
              "    }\n",
              "    90% {\n",
              "      border-color: transparent;\n",
              "      border-bottom-color: var(--fill-color);\n",
              "    }\n",
              "  }\n",
              "</style>\n",
              "\n",
              "  <script>\n",
              "    async function quickchart(key) {\n",
              "      const quickchartButtonEl =\n",
              "        document.querySelector('#' + key + ' button');\n",
              "      quickchartButtonEl.disabled = true;  // To prevent multiple clicks.\n",
              "      quickchartButtonEl.classList.add('colab-df-spinner');\n",
              "      try {\n",
              "        const charts = await google.colab.kernel.invokeFunction(\n",
              "            'suggestCharts', [key], {});\n",
              "      } catch (error) {\n",
              "        console.error('Error during call to suggestCharts:', error);\n",
              "      }\n",
              "      quickchartButtonEl.classList.remove('colab-df-spinner');\n",
              "      quickchartButtonEl.classList.add('colab-df-quickchart-complete');\n",
              "    }\n",
              "    (() => {\n",
              "      let quickchartButtonEl =\n",
              "        document.querySelector('#df-9a0ea607-81ff-4831-a885-4cf07bf584cb button');\n",
              "      quickchartButtonEl.style.display =\n",
              "        google.colab.kernel.accessAllowed ? 'block' : 'none';\n",
              "    })();\n",
              "  </script>\n",
              "</div>\n",
              "\n",
              "    </div>\n",
              "  </div>\n"
            ],
            "application/vnd.google.colaboratory.intrinsic+json": {
              "type": "dataframe",
              "summary": "{\n  \"name\": \"df[['salary_monthly_NETO', 'salary_monthly_BRUTO']]\",\n  \"rows\": 8,\n  \"fields\": [\n    {\n      \"column\": \"salary_monthly_NETO\",\n      \"properties\": {\n        \"dtype\": \"number\",\n        \"std\": 18733352958188.61,\n        \"min\": 4.0,\n        \"max\": 53090005379000.0,\n        \"num_unique_values\": 8,\n        \"samples\": [\n          10725497332.62,\n          1916958.0,\n          4951.0\n        ],\n        \"semantic_type\": \"\",\n        \"description\": \"\"\n      }\n    },\n    {\n      \"column\": \"salary_monthly_BRUTO\",\n      \"properties\": {\n        \"dtype\": \"number\",\n        \"std\": 4336601.741499406,\n        \"min\": 5196.0,\n        \"max\": 13500000.0,\n        \"num_unique_values\": 8,\n        \"samples\": [\n          2728422.73,\n          2290000.0,\n          5196.0\n        ],\n        \"semantic_type\": \"\",\n        \"description\": \"\"\n      }\n    }\n  ]\n}"
            }
          },
          "metadata": {},
          "execution_count": 15
        }
      ],
      "source": [
        "df[['salary_monthly_NETO', 'salary_monthly_BRUTO']].describe().map(lambda x: round(x, 2))"
      ]
    },
    {
      "cell_type": "code",
      "source": [
        "df[df['salary_monthly_NETO'] < 15000000].describe().map(lambda x: round(x, 2))"
      ],
      "metadata": {
        "colab": {
          "base_uri": "https://localhost:8080/",
          "height": 337
        },
        "id": "bsvDhdsW34Iu",
        "outputId": "98f70b27-2aef-4815-bd0a-6bb72d7bdb8a"
      },
      "execution_count": null,
      "outputs": [
        {
          "output_type": "execute_result",
          "data": {
            "text/plain": [
              "       Unnamed: 0  salary_monthly_BRUTO  salary_monthly_NETO  \\\n",
              "count     4943.00               4943.00              4943.00   \n",
              "mean      2718.74            2706381.84           2295041.00   \n",
              "std       1531.94            1764860.91           1550875.92   \n",
              "min          0.00             150000.00                 4.00   \n",
              "25%       1397.50            1500000.00           1284054.00   \n",
              "50%       2751.00            2257000.00           1907000.00   \n",
              "75%       4046.50            3456616.50           2870341.50   \n",
              "max       5324.00           13500000.00          13500000.00   \n",
              "\n",
              "       salary_percentage_inflation_adjustment  \\\n",
              "count                                 4943.00   \n",
              "mean                                  2083.49   \n",
              "std                                 142233.66   \n",
              "min                                      0.00   \n",
              "25%                                      8.00   \n",
              "50%                                     39.00   \n",
              "75%                                    100.00   \n",
              "max                                9999999.00   \n",
              "\n",
              "       salary_comparison_last_semester  salary_satisfaction  \\\n",
              "count                          4943.00              4943.00   \n",
              "mean                              2.57                 2.55   \n",
              "std                               0.86                 0.87   \n",
              "min                               1.00                 1.00   \n",
              "25%                               2.00                 2.00   \n",
              "50%                               3.00                 3.00   \n",
              "75%                               3.00                 3.00   \n",
              "max                               4.00                 4.00   \n",
              "\n",
              "       profile_years_experience  work_years_in_company  \\\n",
              "count                   4943.00                4943.00   \n",
              "mean                       8.76                   3.83   \n",
              "std                        7.69                   5.03   \n",
              "min                        0.00                   0.00   \n",
              "25%                        3.00                   1.00   \n",
              "50%                        6.00                   2.00   \n",
              "75%                       13.00                   4.00   \n",
              "max                       46.00                  90.00   \n",
              "\n",
              "       work_years_in_current_position  work_people_in_charge_of  \\\n",
              "count                         4943.00                   4943.00   \n",
              "mean                             3.22                      2.10   \n",
              "std                              6.85                      8.04   \n",
              "min                              0.00                      0.00   \n",
              "25%                              1.00                      0.00   \n",
              "50%                              2.00                      0.00   \n",
              "75%                              4.00                      1.00   \n",
              "max                            412.00                    200.00   \n",
              "\n",
              "       company_days_in_the_office  company_recommended  tools_copilotchatgpt  \\\n",
              "count                     4943.00              4943.00               4943.00   \n",
              "mean                         0.82                 6.64                  3.10   \n",
              "std                          1.21                 2.76                  1.55   \n",
              "min                          0.00                 0.00                  0.00   \n",
              "25%                          0.00                 5.00                  2.00   \n",
              "50%                          0.00                 7.00                  3.00   \n",
              "75%                          1.00                 8.00                  4.00   \n",
              "max                          5.00                10.00                  5.00   \n",
              "\n",
              "       salary_on_call_duty_charge  profile_age        _sal  \n",
              "count                     1609.00      4943.00     4943.00  \n",
              "mean                     13921.39        36.59  2706381.84  \n",
              "std                      87662.15        45.96  1764860.91  \n",
              "min                          0.00        19.00   150000.00  \n",
              "25%                          0.00        29.00  1500000.00  \n",
              "50%                          0.00        35.00  2257000.00  \n",
              "75%                          0.00        41.00  3456616.50  \n",
              "max                    1500000.00      3040.00 13500000.00  "
            ],
            "text/html": [
              "\n",
              "  <div id=\"df-206ddc4c-0409-4ec7-a620-ab476ff81b7e\" class=\"colab-df-container\">\n",
              "    <div>\n",
              "<style scoped>\n",
              "    .dataframe tbody tr th:only-of-type {\n",
              "        vertical-align: middle;\n",
              "    }\n",
              "\n",
              "    .dataframe tbody tr th {\n",
              "        vertical-align: top;\n",
              "    }\n",
              "\n",
              "    .dataframe thead th {\n",
              "        text-align: right;\n",
              "    }\n",
              "</style>\n",
              "<table border=\"1\" class=\"dataframe\">\n",
              "  <thead>\n",
              "    <tr style=\"text-align: right;\">\n",
              "      <th></th>\n",
              "      <th>Unnamed: 0</th>\n",
              "      <th>salary_monthly_BRUTO</th>\n",
              "      <th>salary_monthly_NETO</th>\n",
              "      <th>salary_percentage_inflation_adjustment</th>\n",
              "      <th>salary_comparison_last_semester</th>\n",
              "      <th>salary_satisfaction</th>\n",
              "      <th>profile_years_experience</th>\n",
              "      <th>work_years_in_company</th>\n",
              "      <th>work_years_in_current_position</th>\n",
              "      <th>work_people_in_charge_of</th>\n",
              "      <th>company_days_in_the_office</th>\n",
              "      <th>company_recommended</th>\n",
              "      <th>tools_copilotchatgpt</th>\n",
              "      <th>salary_on_call_duty_charge</th>\n",
              "      <th>profile_age</th>\n",
              "      <th>_sal</th>\n",
              "    </tr>\n",
              "  </thead>\n",
              "  <tbody>\n",
              "    <tr>\n",
              "      <th>count</th>\n",
              "      <td>4943.00</td>\n",
              "      <td>4943.00</td>\n",
              "      <td>4943.00</td>\n",
              "      <td>4943.00</td>\n",
              "      <td>4943.00</td>\n",
              "      <td>4943.00</td>\n",
              "      <td>4943.00</td>\n",
              "      <td>4943.00</td>\n",
              "      <td>4943.00</td>\n",
              "      <td>4943.00</td>\n",
              "      <td>4943.00</td>\n",
              "      <td>4943.00</td>\n",
              "      <td>4943.00</td>\n",
              "      <td>1609.00</td>\n",
              "      <td>4943.00</td>\n",
              "      <td>4943.00</td>\n",
              "    </tr>\n",
              "    <tr>\n",
              "      <th>mean</th>\n",
              "      <td>2718.74</td>\n",
              "      <td>2706381.84</td>\n",
              "      <td>2295041.00</td>\n",
              "      <td>2083.49</td>\n",
              "      <td>2.57</td>\n",
              "      <td>2.55</td>\n",
              "      <td>8.76</td>\n",
              "      <td>3.83</td>\n",
              "      <td>3.22</td>\n",
              "      <td>2.10</td>\n",
              "      <td>0.82</td>\n",
              "      <td>6.64</td>\n",
              "      <td>3.10</td>\n",
              "      <td>13921.39</td>\n",
              "      <td>36.59</td>\n",
              "      <td>2706381.84</td>\n",
              "    </tr>\n",
              "    <tr>\n",
              "      <th>std</th>\n",
              "      <td>1531.94</td>\n",
              "      <td>1764860.91</td>\n",
              "      <td>1550875.92</td>\n",
              "      <td>142233.66</td>\n",
              "      <td>0.86</td>\n",
              "      <td>0.87</td>\n",
              "      <td>7.69</td>\n",
              "      <td>5.03</td>\n",
              "      <td>6.85</td>\n",
              "      <td>8.04</td>\n",
              "      <td>1.21</td>\n",
              "      <td>2.76</td>\n",
              "      <td>1.55</td>\n",
              "      <td>87662.15</td>\n",
              "      <td>45.96</td>\n",
              "      <td>1764860.91</td>\n",
              "    </tr>\n",
              "    <tr>\n",
              "      <th>min</th>\n",
              "      <td>0.00</td>\n",
              "      <td>150000.00</td>\n",
              "      <td>4.00</td>\n",
              "      <td>0.00</td>\n",
              "      <td>1.00</td>\n",
              "      <td>1.00</td>\n",
              "      <td>0.00</td>\n",
              "      <td>0.00</td>\n",
              "      <td>0.00</td>\n",
              "      <td>0.00</td>\n",
              "      <td>0.00</td>\n",
              "      <td>0.00</td>\n",
              "      <td>0.00</td>\n",
              "      <td>0.00</td>\n",
              "      <td>19.00</td>\n",
              "      <td>150000.00</td>\n",
              "    </tr>\n",
              "    <tr>\n",
              "      <th>25%</th>\n",
              "      <td>1397.50</td>\n",
              "      <td>1500000.00</td>\n",
              "      <td>1284054.00</td>\n",
              "      <td>8.00</td>\n",
              "      <td>2.00</td>\n",
              "      <td>2.00</td>\n",
              "      <td>3.00</td>\n",
              "      <td>1.00</td>\n",
              "      <td>1.00</td>\n",
              "      <td>0.00</td>\n",
              "      <td>0.00</td>\n",
              "      <td>5.00</td>\n",
              "      <td>2.00</td>\n",
              "      <td>0.00</td>\n",
              "      <td>29.00</td>\n",
              "      <td>1500000.00</td>\n",
              "    </tr>\n",
              "    <tr>\n",
              "      <th>50%</th>\n",
              "      <td>2751.00</td>\n",
              "      <td>2257000.00</td>\n",
              "      <td>1907000.00</td>\n",
              "      <td>39.00</td>\n",
              "      <td>3.00</td>\n",
              "      <td>3.00</td>\n",
              "      <td>6.00</td>\n",
              "      <td>2.00</td>\n",
              "      <td>2.00</td>\n",
              "      <td>0.00</td>\n",
              "      <td>0.00</td>\n",
              "      <td>7.00</td>\n",
              "      <td>3.00</td>\n",
              "      <td>0.00</td>\n",
              "      <td>35.00</td>\n",
              "      <td>2257000.00</td>\n",
              "    </tr>\n",
              "    <tr>\n",
              "      <th>75%</th>\n",
              "      <td>4046.50</td>\n",
              "      <td>3456616.50</td>\n",
              "      <td>2870341.50</td>\n",
              "      <td>100.00</td>\n",
              "      <td>3.00</td>\n",
              "      <td>3.00</td>\n",
              "      <td>13.00</td>\n",
              "      <td>4.00</td>\n",
              "      <td>4.00</td>\n",
              "      <td>1.00</td>\n",
              "      <td>1.00</td>\n",
              "      <td>8.00</td>\n",
              "      <td>4.00</td>\n",
              "      <td>0.00</td>\n",
              "      <td>41.00</td>\n",
              "      <td>3456616.50</td>\n",
              "    </tr>\n",
              "    <tr>\n",
              "      <th>max</th>\n",
              "      <td>5324.00</td>\n",
              "      <td>13500000.00</td>\n",
              "      <td>13500000.00</td>\n",
              "      <td>9999999.00</td>\n",
              "      <td>4.00</td>\n",
              "      <td>4.00</td>\n",
              "      <td>46.00</td>\n",
              "      <td>90.00</td>\n",
              "      <td>412.00</td>\n",
              "      <td>200.00</td>\n",
              "      <td>5.00</td>\n",
              "      <td>10.00</td>\n",
              "      <td>5.00</td>\n",
              "      <td>1500000.00</td>\n",
              "      <td>3040.00</td>\n",
              "      <td>13500000.00</td>\n",
              "    </tr>\n",
              "  </tbody>\n",
              "</table>\n",
              "</div>\n",
              "    <div class=\"colab-df-buttons\">\n",
              "\n",
              "  <div class=\"colab-df-container\">\n",
              "    <button class=\"colab-df-convert\" onclick=\"convertToInteractive('df-206ddc4c-0409-4ec7-a620-ab476ff81b7e')\"\n",
              "            title=\"Convert this dataframe to an interactive table.\"\n",
              "            style=\"display:none;\">\n",
              "\n",
              "  <svg xmlns=\"http://www.w3.org/2000/svg\" height=\"24px\" viewBox=\"0 -960 960 960\">\n",
              "    <path d=\"M120-120v-720h720v720H120Zm60-500h600v-160H180v160Zm220 220h160v-160H400v160Zm0 220h160v-160H400v160ZM180-400h160v-160H180v160Zm440 0h160v-160H620v160ZM180-180h160v-160H180v160Zm440 0h160v-160H620v160Z\"/>\n",
              "  </svg>\n",
              "    </button>\n",
              "\n",
              "  <style>\n",
              "    .colab-df-container {\n",
              "      display:flex;\n",
              "      gap: 12px;\n",
              "    }\n",
              "\n",
              "    .colab-df-convert {\n",
              "      background-color: #E8F0FE;\n",
              "      border: none;\n",
              "      border-radius: 50%;\n",
              "      cursor: pointer;\n",
              "      display: none;\n",
              "      fill: #1967D2;\n",
              "      height: 32px;\n",
              "      padding: 0 0 0 0;\n",
              "      width: 32px;\n",
              "    }\n",
              "\n",
              "    .colab-df-convert:hover {\n",
              "      background-color: #E2EBFA;\n",
              "      box-shadow: 0px 1px 2px rgba(60, 64, 67, 0.3), 0px 1px 3px 1px rgba(60, 64, 67, 0.15);\n",
              "      fill: #174EA6;\n",
              "    }\n",
              "\n",
              "    .colab-df-buttons div {\n",
              "      margin-bottom: 4px;\n",
              "    }\n",
              "\n",
              "    [theme=dark] .colab-df-convert {\n",
              "      background-color: #3B4455;\n",
              "      fill: #D2E3FC;\n",
              "    }\n",
              "\n",
              "    [theme=dark] .colab-df-convert:hover {\n",
              "      background-color: #434B5C;\n",
              "      box-shadow: 0px 1px 3px 1px rgba(0, 0, 0, 0.15);\n",
              "      filter: drop-shadow(0px 1px 2px rgba(0, 0, 0, 0.3));\n",
              "      fill: #FFFFFF;\n",
              "    }\n",
              "  </style>\n",
              "\n",
              "    <script>\n",
              "      const buttonEl =\n",
              "        document.querySelector('#df-206ddc4c-0409-4ec7-a620-ab476ff81b7e button.colab-df-convert');\n",
              "      buttonEl.style.display =\n",
              "        google.colab.kernel.accessAllowed ? 'block' : 'none';\n",
              "\n",
              "      async function convertToInteractive(key) {\n",
              "        const element = document.querySelector('#df-206ddc4c-0409-4ec7-a620-ab476ff81b7e');\n",
              "        const dataTable =\n",
              "          await google.colab.kernel.invokeFunction('convertToInteractive',\n",
              "                                                    [key], {});\n",
              "        if (!dataTable) return;\n",
              "\n",
              "        const docLinkHtml = 'Like what you see? Visit the ' +\n",
              "          '<a target=\"_blank\" href=https://colab.research.google.com/notebooks/data_table.ipynb>data table notebook</a>'\n",
              "          + ' to learn more about interactive tables.';\n",
              "        element.innerHTML = '';\n",
              "        dataTable['output_type'] = 'display_data';\n",
              "        await google.colab.output.renderOutput(dataTable, element);\n",
              "        const docLink = document.createElement('div');\n",
              "        docLink.innerHTML = docLinkHtml;\n",
              "        element.appendChild(docLink);\n",
              "      }\n",
              "    </script>\n",
              "  </div>\n",
              "\n",
              "\n",
              "<div id=\"df-b803ac6f-5f21-41ce-977f-5ba90bd6b830\">\n",
              "  <button class=\"colab-df-quickchart\" onclick=\"quickchart('df-b803ac6f-5f21-41ce-977f-5ba90bd6b830')\"\n",
              "            title=\"Suggest charts\"\n",
              "            style=\"display:none;\">\n",
              "\n",
              "<svg xmlns=\"http://www.w3.org/2000/svg\" height=\"24px\"viewBox=\"0 0 24 24\"\n",
              "     width=\"24px\">\n",
              "    <g>\n",
              "        <path d=\"M19 3H5c-1.1 0-2 .9-2 2v14c0 1.1.9 2 2 2h14c1.1 0 2-.9 2-2V5c0-1.1-.9-2-2-2zM9 17H7v-7h2v7zm4 0h-2V7h2v10zm4 0h-2v-4h2v4z\"/>\n",
              "    </g>\n",
              "</svg>\n",
              "  </button>\n",
              "\n",
              "<style>\n",
              "  .colab-df-quickchart {\n",
              "      --bg-color: #E8F0FE;\n",
              "      --fill-color: #1967D2;\n",
              "      --hover-bg-color: #E2EBFA;\n",
              "      --hover-fill-color: #174EA6;\n",
              "      --disabled-fill-color: #AAA;\n",
              "      --disabled-bg-color: #DDD;\n",
              "  }\n",
              "\n",
              "  [theme=dark] .colab-df-quickchart {\n",
              "      --bg-color: #3B4455;\n",
              "      --fill-color: #D2E3FC;\n",
              "      --hover-bg-color: #434B5C;\n",
              "      --hover-fill-color: #FFFFFF;\n",
              "      --disabled-bg-color: #3B4455;\n",
              "      --disabled-fill-color: #666;\n",
              "  }\n",
              "\n",
              "  .colab-df-quickchart {\n",
              "    background-color: var(--bg-color);\n",
              "    border: none;\n",
              "    border-radius: 50%;\n",
              "    cursor: pointer;\n",
              "    display: none;\n",
              "    fill: var(--fill-color);\n",
              "    height: 32px;\n",
              "    padding: 0;\n",
              "    width: 32px;\n",
              "  }\n",
              "\n",
              "  .colab-df-quickchart:hover {\n",
              "    background-color: var(--hover-bg-color);\n",
              "    box-shadow: 0 1px 2px rgba(60, 64, 67, 0.3), 0 1px 3px 1px rgba(60, 64, 67, 0.15);\n",
              "    fill: var(--button-hover-fill-color);\n",
              "  }\n",
              "\n",
              "  .colab-df-quickchart-complete:disabled,\n",
              "  .colab-df-quickchart-complete:disabled:hover {\n",
              "    background-color: var(--disabled-bg-color);\n",
              "    fill: var(--disabled-fill-color);\n",
              "    box-shadow: none;\n",
              "  }\n",
              "\n",
              "  .colab-df-spinner {\n",
              "    border: 2px solid var(--fill-color);\n",
              "    border-color: transparent;\n",
              "    border-bottom-color: var(--fill-color);\n",
              "    animation:\n",
              "      spin 1s steps(1) infinite;\n",
              "  }\n",
              "\n",
              "  @keyframes spin {\n",
              "    0% {\n",
              "      border-color: transparent;\n",
              "      border-bottom-color: var(--fill-color);\n",
              "      border-left-color: var(--fill-color);\n",
              "    }\n",
              "    20% {\n",
              "      border-color: transparent;\n",
              "      border-left-color: var(--fill-color);\n",
              "      border-top-color: var(--fill-color);\n",
              "    }\n",
              "    30% {\n",
              "      border-color: transparent;\n",
              "      border-left-color: var(--fill-color);\n",
              "      border-top-color: var(--fill-color);\n",
              "      border-right-color: var(--fill-color);\n",
              "    }\n",
              "    40% {\n",
              "      border-color: transparent;\n",
              "      border-right-color: var(--fill-color);\n",
              "      border-top-color: var(--fill-color);\n",
              "    }\n",
              "    60% {\n",
              "      border-color: transparent;\n",
              "      border-right-color: var(--fill-color);\n",
              "    }\n",
              "    80% {\n",
              "      border-color: transparent;\n",
              "      border-right-color: var(--fill-color);\n",
              "      border-bottom-color: var(--fill-color);\n",
              "    }\n",
              "    90% {\n",
              "      border-color: transparent;\n",
              "      border-bottom-color: var(--fill-color);\n",
              "    }\n",
              "  }\n",
              "</style>\n",
              "\n",
              "  <script>\n",
              "    async function quickchart(key) {\n",
              "      const quickchartButtonEl =\n",
              "        document.querySelector('#' + key + ' button');\n",
              "      quickchartButtonEl.disabled = true;  // To prevent multiple clicks.\n",
              "      quickchartButtonEl.classList.add('colab-df-spinner');\n",
              "      try {\n",
              "        const charts = await google.colab.kernel.invokeFunction(\n",
              "            'suggestCharts', [key], {});\n",
              "      } catch (error) {\n",
              "        console.error('Error during call to suggestCharts:', error);\n",
              "      }\n",
              "      quickchartButtonEl.classList.remove('colab-df-spinner');\n",
              "      quickchartButtonEl.classList.add('colab-df-quickchart-complete');\n",
              "    }\n",
              "    (() => {\n",
              "      let quickchartButtonEl =\n",
              "        document.querySelector('#df-b803ac6f-5f21-41ce-977f-5ba90bd6b830 button');\n",
              "      quickchartButtonEl.style.display =\n",
              "        google.colab.kernel.accessAllowed ? 'block' : 'none';\n",
              "    })();\n",
              "  </script>\n",
              "</div>\n",
              "\n",
              "    </div>\n",
              "  </div>\n"
            ],
            "application/vnd.google.colaboratory.intrinsic+json": {
              "type": "dataframe",
              "summary": "{\n  \"name\": \"df[df['salary_monthly_NETO'] < 15000000]\",\n  \"rows\": 8,\n  \"fields\": [\n    {\n      \"column\": \"Unnamed: 0\",\n      \"properties\": {\n        \"dtype\": \"number\",\n        \"std\": 1848.8820078785836,\n        \"min\": 0.0,\n        \"max\": 5324.0,\n        \"num_unique_values\": 8,\n        \"samples\": [\n          2718.74,\n          2751.0,\n          4943.0\n        ],\n        \"semantic_type\": \"\",\n        \"description\": \"\"\n      }\n    },\n    {\n      \"column\": \"salary_monthly_BRUTO\",\n      \"properties\": {\n        \"dtype\": \"number\",\n        \"std\": 4338215.737542187,\n        \"min\": 4943.0,\n        \"max\": 13500000.0,\n        \"num_unique_values\": 8,\n        \"samples\": [\n          2706381.84,\n          2257000.0,\n          4943.0\n        ],\n        \"semantic_type\": \"\",\n        \"description\": \"\"\n      }\n    },\n    {\n      \"column\": \"salary_monthly_NETO\",\n      \"properties\": {\n        \"dtype\": \"number\",\n        \"std\": 4390411.977936333,\n        \"min\": 4.0,\n        \"max\": 13500000.0,\n        \"num_unique_values\": 8,\n        \"samples\": [\n          2295041.0,\n          1907000.0,\n          4943.0\n        ],\n        \"semantic_type\": \"\",\n        \"description\": \"\"\n      }\n    },\n    {\n      \"column\": \"salary_percentage_inflation_adjustment\",\n      \"properties\": {\n        \"dtype\": \"number\",\n        \"std\": 3528332.9440827053,\n        \"min\": 0.0,\n        \"max\": 9999999.0,\n        \"num_unique_values\": 8,\n        \"samples\": [\n          2083.49,\n          39.0,\n          4943.0\n        ],\n        \"semantic_type\": \"\",\n        \"description\": \"\"\n      }\n    },\n    {\n      \"column\": \"salary_comparison_last_semester\",\n      \"properties\": {\n        \"dtype\": \"number\",\n        \"std\": 1746.7848875612876,\n        \"min\": 0.86,\n        \"max\": 4943.0,\n        \"num_unique_values\": 7,\n        \"samples\": [\n          4943.0,\n          2.57,\n          3.0\n        ],\n        \"semantic_type\": \"\",\n        \"description\": \"\"\n      }\n    },\n    {\n      \"column\": \"salary_satisfaction\",\n      \"properties\": {\n        \"dtype\": \"number\",\n        \"std\": 1746.7853910765832,\n        \"min\": 0.87,\n        \"max\": 4943.0,\n        \"num_unique_values\": 7,\n        \"samples\": [\n          4943.0,\n          2.55,\n          3.0\n        ],\n        \"semantic_type\": \"\",\n        \"description\": \"\"\n      }\n    },\n    {\n      \"column\": \"profile_years_experience\",\n      \"properties\": {\n        \"dtype\": \"number\",\n        \"std\": 1743.40832795531,\n        \"min\": 0.0,\n        \"max\": 4943.0,\n        \"num_unique_values\": 8,\n        \"samples\": [\n          8.76,\n          6.0,\n          4943.0\n        ],\n        \"semantic_type\": \"\",\n        \"description\": \"\"\n      }\n    },\n    {\n      \"column\": \"work_years_in_company\",\n      \"properties\": {\n        \"dtype\": \"number\",\n        \"std\": 1742.536597580419,\n        \"min\": 0.0,\n        \"max\": 4943.0,\n        \"num_unique_values\": 8,\n        \"samples\": [\n          3.83,\n          2.0,\n          4943.0\n        ],\n        \"semantic_type\": \"\",\n        \"description\": \"\"\n      }\n    },\n    {\n      \"column\": \"work_years_in_current_position\",\n      \"properties\": {\n        \"dtype\": \"number\",\n        \"std\": 1731.872614924893,\n        \"min\": 0.0,\n        \"max\": 4943.0,\n        \"num_unique_values\": 8,\n        \"samples\": [\n          3.22,\n          2.0,\n          4943.0\n        ],\n        \"semantic_type\": \"\",\n        \"description\": \"\"\n      }\n    },\n    {\n      \"column\": \"work_people_in_charge_of\",\n      \"properties\": {\n        \"dtype\": \"number\",\n        \"std\": 1738.3355815734446,\n        \"min\": 0.0,\n        \"max\": 4943.0,\n        \"num_unique_values\": 6,\n        \"samples\": [\n          4943.0,\n          2.1,\n          200.0\n        ],\n        \"semantic_type\": \"\",\n        \"description\": \"\"\n      }\n    },\n    {\n      \"column\": \"company_days_in_the_office\",\n      \"properties\": {\n        \"dtype\": \"number\",\n        \"std\": 1747.2096071363742,\n        \"min\": 0.0,\n        \"max\": 4943.0,\n        \"num_unique_values\": 6,\n        \"samples\": [\n          4943.0,\n          0.82,\n          5.0\n        ],\n        \"semantic_type\": \"\",\n        \"description\": \"\"\n      }\n    },\n    {\n      \"column\": \"company_recommended\",\n      \"properties\": {\n        \"dtype\": \"number\",\n        \"std\": 1745.6271892605573,\n        \"min\": 0.0,\n        \"max\": 4943.0,\n        \"num_unique_values\": 8,\n        \"samples\": [\n          6.64,\n          7.0,\n          4943.0\n        ],\n        \"semantic_type\": \"\",\n        \"description\": \"\"\n      }\n    },\n    {\n      \"column\": \"tools_copilotchatgpt\",\n      \"properties\": {\n        \"dtype\": \"number\",\n        \"std\": 1746.673109992148,\n        \"min\": 0.0,\n        \"max\": 4943.0,\n        \"num_unique_values\": 8,\n        \"samples\": [\n          3.1,\n          3.0,\n          4943.0\n        ],\n        \"semantic_type\": \"\",\n        \"description\": \"\"\n      }\n    },\n    {\n      \"column\": \"salary_on_call_duty_charge\",\n      \"properties\": {\n        \"dtype\": \"number\",\n        \"std\": 525982.4489853248,\n        \"min\": 0.0,\n        \"max\": 1500000.0,\n        \"num_unique_values\": 5,\n        \"samples\": [\n          13921.39,\n          1500000.0,\n          87662.15\n        ],\n        \"semantic_type\": \"\",\n        \"description\": \"\"\n      }\n    },\n    {\n      \"column\": \"profile_age\",\n      \"properties\": {\n        \"dtype\": \"number\",\n        \"std\": 1901.0830371654506,\n        \"min\": 19.0,\n        \"max\": 4943.0,\n        \"num_unique_values\": 8,\n        \"samples\": [\n          36.59,\n          35.0,\n          4943.0\n        ],\n        \"semantic_type\": \"\",\n        \"description\": \"\"\n      }\n    },\n    {\n      \"column\": \"_sal\",\n      \"properties\": {\n        \"dtype\": \"number\",\n        \"std\": 4338215.737542187,\n        \"min\": 4943.0,\n        \"max\": 13500000.0,\n        \"num_unique_values\": 8,\n        \"samples\": [\n          2706381.84,\n          2257000.0,\n          4943.0\n        ],\n        \"semantic_type\": \"\",\n        \"description\": \"\"\n      }\n    }\n  ]\n}"
            }
          },
          "metadata": {},
          "execution_count": 16
        }
      ]
    },
    {
      "cell_type": "markdown",
      "metadata": {
        "id": "m6dcAgVYlUWK"
      },
      "source": [
        "Claramente, ambas distribuciones están centradas en valores distintos, pero ¿podemos decir algo sobre su dispersión?\n",
        "\n",
        "Cuando se comparan dos características diferentes (que pueden tener magnitudes diferentes) puede no ser conveniente comparar directamente los valores de las desviaciones estándar, sino que podemos usar el coeficiente de variación (desviación estándar dividida la media)."
      ]
    },
    {
      "cell_type": "code",
      "execution_count": null,
      "metadata": {
        "colab": {
          "base_uri": "https://localhost:8080/"
        },
        "id": "5Ga3FpQalrCm",
        "outputId": "62c29b55-e664-4b3f-b543-a8ad92624016"
      },
      "outputs": [
        {
          "output_type": "stream",
          "name": "stdout",
          "text": [
            "Coeficiente de variación salario bruto es  0.6524172542238429\n",
            "Coeficiente de variación salario neto es 70.34042427851855\n",
            "Coeficiente de variación salario bruto <15.000.000 es  0.6520448635725439\n",
            "Coeficiente de variación salario neto<15.000.000 es  0.6756824986655977\n"
          ]
        }
      ],
      "source": [
        "import scipy\n",
        "\n",
        "df2= df[df['salary_monthly_NETO'] < 15000000]\n",
        "\n",
        "\n",
        "print(\"Coeficiente de variación salario bruto es \",\n",
        "      scipy.stats.variation(df.salary_monthly_BRUTO))\n",
        "print(\"Coeficiente de variación salario neto es\",\n",
        "      scipy.stats.variation(df.salary_monthly_NETO.dropna()))\n",
        "print(\"Coeficiente de variación salario bruto <15.000.000 es \",\n",
        "      scipy.stats.variation(df2.salary_monthly_BRUTO))\n",
        "print(\"Coeficiente de variación salario neto<15.000.000 es \",\n",
        "      scipy.stats.variation(df2.salary_monthly_NETO.dropna()))\n",
        "\n"
      ]
    },
    {
      "cell_type": "markdown",
      "metadata": {
        "id": "lVG6Ro-6ao3j"
      },
      "source": [
        "## Percentiles y gráficos de caja\n",
        "\n",
        "Los gráficos de caja son otra forma de representar la distribución de las realizaciones de una v.a. numérica, de una forma más condensada que un histograma.\n",
        "\n",
        "Son muy útiles para comparar muchas distribuciones, pero sólo cuando son muy distintas entre ellas, ya que oscurecen algunas sutilezas. Otros problema de este tipo de gráficos es que *no todo el mundo recuerda cómo leerlos*.\n",
        "\n",
        "En estadística descriptiva, un gráfico de caja es un método para representar gráficamente grupos de datos numéricos a través de sus cuartiles. Los gráficos de caja también pueden tener líneas que se extienden verticalmente desde las cajas (bigotes) indicando la variabilidad fuera de los cuartiles superior e inferior. Los valores atípicos pueden representarse como puntos individuales.\n",
        "\n",
        "La definición anterior sugiere que, si hay un valor atípico, se representará como un punto en el diagrama de caja, mientras que el resto de los datos de la muestra se agrupará y se mostrará en forma de cajas. Intentemos verlo nosotros mismos.\n",
        "<center>\n",
        "<img src=\"https://miro.medium.com/max/1400/1*2c21SkzJMf3frPXPAR_gZA.png\" height=\"300\" />\n",
        "</center>"
      ]
    },
    {
      "cell_type": "code",
      "execution_count": null,
      "metadata": {
        "colab": {
          "base_uri": "https://localhost:8080/",
          "height": 388
        },
        "id": "5dbBiShrasMI",
        "outputId": "eaca7ed6-3a9c-4812-b60d-93e7cce4a998"
      },
      "outputs": [
        {
          "output_type": "display_data",
          "data": {
            "text/plain": [
              "<Figure size 1200x400 with 1 Axes>"
            ],
            "image/png": "[encoded data removed]"
          },
          "metadata": {}
        }
      ],
      "source": [
        "salary_col='salary_monthly_BRUTO'\n",
        "\n",
        "plt.figure(figsize=(12, 4))\n",
        "seaborn.boxplot(x=df[df[salary_col]<15000000][salary_col])\n",
        "seaborn.despine()"
      ]
    },
    {
      "cell_type": "code",
      "execution_count": null,
      "metadata": {
        "colab": {
          "base_uri": "https://localhost:8080/",
          "height": 523
        },
        "id": "j9J3KNTD_S6j",
        "outputId": "c16acacf-f8f2-469a-fee1-3c9317d34518"
      },
      "outputs": [
        {
          "output_type": "execute_result",
          "data": {
            "text/plain": [
              "<seaborn.axisgrid.FacetGrid at 0x7ab348b00210>"
            ]
          },
          "metadata": {},
          "execution_count": 19
        },
        {
          "output_type": "display_data",
          "data": {
            "text/plain": [
              "<Figure size 500x500 with 1 Axes>"
            ],
            "image/png": "[encoded data removed]"
          },
          "metadata": {}
        }
      ],
      "source": [
        "seaborn.displot(x=df[df.profile_age < 60].profile_age,color='orangered')"
      ]
    },
    {
      "cell_type": "code",
      "execution_count": null,
      "metadata": {
        "colab": {
          "base_uri": "https://localhost:8080/",
          "height": 405
        },
        "id": "GdK00mpDa7Nz",
        "outputId": "f3bdf977-f15d-42d1-8030-096a5ed7e26b"
      },
      "outputs": [
        {
          "output_type": "execute_result",
          "data": {
            "text/plain": [
              "<Axes: xlabel='profile_age'>"
            ]
          },
          "metadata": {},
          "execution_count": 20
        },
        {
          "output_type": "display_data",
          "data": {
            "text/plain": [
              "<Figure size 1200x400 with 1 Axes>"
            ],
            "image/png": "[encoded data removed]"
          },
          "metadata": {}
        }
      ],
      "source": [
        "plt.figure(figsize=(12, 4))\n",
        "seaborn.boxplot(x=df[df.profile_age < 60].profile_age, color='green')"
      ]
    },
    {
      "cell_type": "markdown",
      "metadata": {
        "id": "tyx3Pmk-dJL4"
      },
      "source": [
        "Por ejemplo, podemos comparar la distribución de los salarios netos con respecto al nivel de estudios alcanzado."
      ]
    },
    {
      "cell_type": "code",
      "execution_count": null,
      "metadata": {
        "colab": {
          "base_uri": "https://localhost:8080/",
          "height": 534
        },
        "id": "W1dKgRP9gkHj",
        "outputId": "1626c240-9d96-4004-c05a-5ea4e37e5db6"
      },
      "outputs": [
        {
          "output_type": "display_data",
          "data": {
            "text/plain": [
              "<Figure size 1200x600 with 1 Axes>"
            ],
            "image/png": "[encoded data removed]"
          },
          "metadata": {}
        }
      ],
      "source": [
        "plt.figure(figsize=(12, 6))\n",
        "seaborn.boxplot(data=df, x=salary_col, y='profile_studies_level',\n",
        "                color='orangered')\n",
        "plt.ticklabel_format(style='plain', axis='x')"
      ]
    },
    {
      "cell_type": "code",
      "source": [
        "df['profile_studies_level'].describe()"
      ],
      "metadata": {
        "colab": {
          "base_uri": "https://localhost:8080/",
          "height": 209
        },
        "id": "Jzp9xbYCt52X",
        "outputId": "0a1ff114-c545-4a94-b23d-86d78c16e399"
      },
      "execution_count": null,
      "outputs": [
        {
          "output_type": "execute_result",
          "data": {
            "text/plain": [
              "count              2474\n",
              "unique                7\n",
              "top       Universitario\n",
              "freq               1639\n",
              "Name: profile_studies_level, dtype: object"
            ],
            "text/html": [
              "<div>\n",
              "<style scoped>\n",
              "    .dataframe tbody tr th:only-of-type {\n",
              "        vertical-align: middle;\n",
              "    }\n",
              "\n",
              "    .dataframe tbody tr th {\n",
              "        vertical-align: top;\n",
              "    }\n",
              "\n",
              "    .dataframe thead th {\n",
              "        text-align: right;\n",
              "    }\n",
              "</style>\n",
              "<table border=\"1\" class=\"dataframe\">\n",
              "  <thead>\n",
              "    <tr style=\"text-align: right;\">\n",
              "      <th></th>\n",
              "      <th>profile_studies_level</th>\n",
              "    </tr>\n",
              "  </thead>\n",
              "  <tbody>\n",
              "    <tr>\n",
              "      <th>count</th>\n",
              "      <td>2474</td>\n",
              "    </tr>\n",
              "    <tr>\n",
              "      <th>unique</th>\n",
              "      <td>7</td>\n",
              "    </tr>\n",
              "    <tr>\n",
              "      <th>top</th>\n",
              "      <td>Universitario</td>\n",
              "    </tr>\n",
              "    <tr>\n",
              "      <th>freq</th>\n",
              "      <td>1639</td>\n",
              "    </tr>\n",
              "  </tbody>\n",
              "</table>\n",
              "</div><br><label><b>dtype:</b> object</label>"
            ]
          },
          "metadata": {},
          "execution_count": 22
        }
      ]
    },
    {
      "cell_type": "markdown",
      "metadata": {
        "id": "yqHgU6mUhXSi"
      },
      "source": [
        "### Boxenplots\n",
        "\n",
        "Los boxplots tienen una gran desventaja: ocultan mucha información en la distribución de las colas. Por ejemplo, para la categoría Secuendario, sabemos que el 25% de los valores de sueldo neto es mayor que los ~1.000.000 pesos. Pero no conocemos cómo se distribuyen. Para conjuntos de datos de gran tamaño, el 25% de los datos contiene mucha información.\n",
        "\n",
        "Un gráfico más informativo es el **boxenplot**, que visualiza más percentiles. Otra ventaja es la percepción del mismo debido al peso visual de las cajas: los datos en el rango intercuartílico no parecen muuuucho más importantes que los datos en las colas.\n",
        "\n",
        "Sin embargo, es aún más difícil de leer si buscamos exactitud, ya que los percentiles que definen el límite de cada caja se definen recursivamente y no decrecen linealmente.\n",
        "**Tarea: averiguar en que consisten**\n",
        "\n",
        "https://vita.had.co.nz/papers/letter-value-plot.pdf"
      ]
    },
    {
      "cell_type": "code",
      "execution_count": null,
      "metadata": {
        "id": "evtF2AFChc06",
        "colab": {
          "base_uri": "https://localhost:8080/",
          "height": 534
        },
        "outputId": "cfb6e69d-4287-42e8-fa72-9495e6f1b65c"
      },
      "outputs": [
        {
          "output_type": "display_data",
          "data": {
            "text/plain": [
              "<Figure size 1200x600 with 1 Axes>"
            ],
            "image/png": "[encoded data removed]"
          },
          "metadata": {}
        }
      ],
      "source": [
        "plt.figure(figsize=(12, 6))\n",
        "seaborn.boxenplot(data=df, x=salary_col, y='profile_studies_level',\n",
        "                color='orangered')\n",
        "plt.ticklabel_format(style='plain', axis='x')"
      ]
    },
    {
      "cell_type": "markdown",
      "source": [
        "### Violinplots\n",
        "\n",
        "Los gráficos de violin combinan los boxplot con estimación de densidad usando Kernel Density Estimation. Este enfoque utiliza KDE para proporcionar una descripción más rica de la distribución de valores. Además, los valores de cuartil y bigote del diagrama de caja se muestran dentro del violín. La desventaja es que, debido a que violinplot usa KDE, hay algunos otros parámetros que pueden necesitar ajustes, agregando cierta complejidad en relación con el sencillo diagrama de caja:"
      ],
      "metadata": {
        "id": "NB6MOcKqAcO9"
      }
    },
    {
      "cell_type": "code",
      "source": [
        "plt.figure(figsize=(12, 6))\n",
        "seaborn.violinplot(data=df, x=salary_col, y='profile_studies_level',\n",
        "                color='orangered')\n",
        "plt.ticklabel_format(style='plain', axis='x')"
      ],
      "metadata": {
        "colab": {
          "base_uri": "https://localhost:8080/",
          "height": 538
        },
        "id": "cLYKhcYEAOFr",
        "outputId": "3b2699eb-7766-413d-8943-85e7b9aae923"
      },
      "execution_count": null,
      "outputs": [
        {
          "output_type": "display_data",
          "data": {
            "text/plain": [
              "<Figure size 1200x600 with 1 Axes>"
            ],
            "image/png": "[encoded data removed]"
          },
          "metadata": {}
        }
      ]
    },
    {
      "cell_type": "markdown",
      "metadata": {
        "id": "81z4Ue6PkEZr"
      },
      "source": [
        "## Eliminación de valores extremos\n",
        "\n",
        "### Usando percentiles\n",
        "\n",
        "Una forma conservadora de eliminar valores extremos que estén afectando a la media, el rango y las visualizaciones es seleccionar un cierto porcentaje más extremo. Para eso, usamos los percentiles.\n",
        "\n",
        "Por ejemplo, podemos elegir quedarnos con el 99% de salarios más bajos, eliminando el 1%. Podemos calcular todos los percentiles para decidir cuál sería el más apropiado."
      ]
    },
    {
      "cell_type": "code",
      "execution_count": null,
      "metadata": {
        "id": "-R7cIusV_1ri",
        "colab": {
          "base_uri": "https://localhost:8080/"
        },
        "outputId": "1c7db6a0-6736-4024-d967-933da6b60911"
      },
      "outputs": [
        {
          "output_type": "stream",
          "name": "stdout",
          "text": [
            "Percentil 90 de la columna salary_monthly_BRUTO: 5000000.0\n",
            "% de datos menor que percentil 90: 0.8933795227097767\n",
            "% de datos mayor que percentil 90: 0.09545804464973057\n"
          ]
        }
      ],
      "source": [
        "k = 90\n",
        "percentile_90 = df[salary_col].quantile(k / 100)\n",
        "n_below = len(df[df[salary_col] < percentile_90])\n",
        "n_above = len(df[df[salary_col] > percentile_90])\n",
        "print('Percentil {} de la columna {}: {}'.format(k, salary_col, percentile_90))\n",
        "print('% de datos menor que percentil {}: {}'.format(k, n_below / len(df)))\n",
        "print('% de datos mayor que percentil {}: {}'.format(k, n_above / len(df)))"
      ]
    },
    {
      "cell_type": "markdown",
      "source": [
        "Que pasa con salary_monthly_NETO?"
      ],
      "metadata": {
        "id": "9YaZ1sbB6ji2"
      }
    },
    {
      "cell_type": "code",
      "source": [
        "k = 90\n",
        "salary_col='salary_monthly_NETO'\n",
        "percentile_90 = df[salary_col].quantile(k / 100)\n",
        "n_below = len(df[df[salary_col] < percentile_90])\n",
        "n_above = len(df[df[salary_col] > percentile_90])\n",
        "print('Percentil {} de la columna {}: {}'.format(k, salary_col, percentile_90))\n",
        "print('% de datos menor que percentil {}: {}'.format(k, n_below / len(df)))\n",
        "print('% de datos mayor que percentil {}: {}'.format(k, n_above / len(df)))"
      ],
      "metadata": {
        "colab": {
          "base_uri": "https://localhost:8080/"
        },
        "id": "F_LqMWSD6gy2",
        "outputId": "25dce7a0-afc1-46a1-856d-3070cf1847b5"
      },
      "execution_count": null,
      "outputs": [
        {
          "output_type": "stream",
          "name": "stdout",
          "text": [
            "Percentil 90 de la columna salary_monthly_NETO: 4124297.0\n",
            "% de datos menor que percentil 90: 0.8573903002309469\n",
            "% de datos mayor que percentil 90: 0.09526558891454966\n"
          ]
        }
      ]
    },
    {
      "cell_type": "markdown",
      "source": [
        "Existe valores esporádicos enormes en salario NETO que no estan en salario BRUTO y eso cambia la distribución..."
      ],
      "metadata": {
        "id": "QEzhRPIi99pH"
      }
    },
    {
      "cell_type": "markdown",
      "source": [
        "Volvamos a ver el salario bruto"
      ],
      "metadata": {
        "id": "VdxXH7ie962l"
      }
    },
    {
      "cell_type": "code",
      "execution_count": null,
      "metadata": {
        "id": "bWEgaBVvka9p",
        "colab": {
          "base_uri": "https://localhost:8080/",
          "height": 240
        },
        "outputId": "dc5f8fd9-eb99-4e0a-9346-31d8c2c97201"
      },
      "outputs": [
        {
          "output_type": "execute_result",
          "data": {
            "text/plain": [
              "0.95    6262500.00\n",
              "0.98    7910000.00\n",
              "0.99    8835331.00\n",
              "0.99   10000000.00\n",
              "1.00   11800000.00\n",
              "Name: salary_monthly_BRUTO, dtype: float64"
            ],
            "text/html": [
              "<div>\n",
              "<style scoped>\n",
              "    .dataframe tbody tr th:only-of-type {\n",
              "        vertical-align: middle;\n",
              "    }\n",
              "\n",
              "    .dataframe tbody tr th {\n",
              "        vertical-align: top;\n",
              "    }\n",
              "\n",
              "    .dataframe thead th {\n",
              "        text-align: right;\n",
              "    }\n",
              "</style>\n",
              "<table border=\"1\" class=\"dataframe\">\n",
              "  <thead>\n",
              "    <tr style=\"text-align: right;\">\n",
              "      <th></th>\n",
              "      <th>salary_monthly_BRUTO</th>\n",
              "    </tr>\n",
              "  </thead>\n",
              "  <tbody>\n",
              "    <tr>\n",
              "      <th>0.95</th>\n",
              "      <td>6262500.00</td>\n",
              "    </tr>\n",
              "    <tr>\n",
              "      <th>0.98</th>\n",
              "      <td>7910000.00</td>\n",
              "    </tr>\n",
              "    <tr>\n",
              "      <th>0.99</th>\n",
              "      <td>8835331.00</td>\n",
              "    </tr>\n",
              "    <tr>\n",
              "      <th>0.99</th>\n",
              "      <td>10000000.00</td>\n",
              "    </tr>\n",
              "    <tr>\n",
              "      <th>1.00</th>\n",
              "      <td>11800000.00</td>\n",
              "    </tr>\n",
              "  </tbody>\n",
              "</table>\n",
              "</div><br><label><b>dtype:</b> float64</label>"
            ]
          },
          "metadata": {},
          "execution_count": 27
        }
      ],
      "source": [
        "salary_col='salary_monthly_BRUTO'\n",
        "\n",
        "df[salary_col].quantile([.95, .98, .99, .995, .998])"
      ]
    },
    {
      "cell_type": "code",
      "execution_count": null,
      "metadata": {
        "id": "A-2cG3unruwo",
        "colab": {
          "base_uri": "https://localhost:8080/",
          "height": 405
        },
        "outputId": "14d58dd5-70e6-479f-bec7-7051ac3d45bb"
      },
      "outputs": [
        {
          "output_type": "execute_result",
          "data": {
            "text/plain": [
              "<Axes: xlabel='salary_monthly_BRUTO'>"
            ]
          },
          "metadata": {},
          "execution_count": 28
        },
        {
          "output_type": "display_data",
          "data": {
            "text/plain": [
              "<Figure size 1200x400 with 1 Axes>"
            ],
            "image/png": "[encoded data removed]"
          },
          "metadata": {}
        }
      ],
      "source": [
        "plt.figure(figsize=(12, 4))\n",
        "max_limit = df[salary_col].quantile(.98)\n",
        "seaborn.boxplot( x=df[df[salary_col] < max_limit][salary_col])"
      ]
    },
    {
      "cell_type": "code",
      "source": [
        "plt.figure(figsize=(12, 6))\n",
        "seaborn.boxplot(data=df, x=df[df[salary_col] < max_limit][salary_col], y='profile_studies_level',\n",
        "                color='orangered')\n",
        "plt.ticklabel_format(style='plain', axis='x')"
      ],
      "metadata": {
        "colab": {
          "base_uri": "https://localhost:8080/",
          "height": 539
        },
        "id": "z-9UPzNBmDs9",
        "outputId": "e8cbe6eb-283d-4d87-85d2-fca33e0dc595"
      },
      "execution_count": null,
      "outputs": [
        {
          "output_type": "display_data",
          "data": {
            "text/plain": [
              "<Figure size 1200x600 with 1 Axes>"
            ],
            "image/png": "[encoded data removed]"
          },
          "metadata": {}
        }
      ]
    },
    {
      "cell_type": "code",
      "execution_count": null,
      "metadata": {
        "id": "MWmor0akspwt",
        "colab": {
          "base_uri": "https://localhost:8080/",
          "height": 1000
        },
        "outputId": "78ae178c-1d22-41b7-f22b-6cc50b8163b4"
      },
      "outputs": [
        {
          "output_type": "execute_result",
          "data": {
            "text/plain": [
              "<Axes: xlabel='salary_monthly_BRUTO'>"
            ]
          },
          "metadata": {},
          "execution_count": 30
        },
        {
          "output_type": "display_data",
          "data": {
            "text/plain": [
              "<Figure size 1200x1800 with 3 Axes>"
            ],
            "image/png": "[encoded data removed]"
          },
          "metadata": {}
        }
      ],
      "source": [
        "fig, axes = plt.subplots(figsize=(12, 18), nrows=3)\n",
        "max_limit = df[salary_col].quantile(.98)\n",
        "data = df[df[salary_col] < max_limit][salary_col]\n",
        "\n",
        "seaborn.histplot(x=data, ax=axes[0])\n",
        "seaborn.boxplot(x=data, color='orangered',ax=axes[1])\n",
        "seaborn.violinplot(x=data, color='green',ax=axes[2])"
      ]
    },
    {
      "cell_type": "markdown",
      "metadata": {
        "id": "SBkKwLFltJwg"
      },
      "source": [
        "### Rango itercuartílico"
      ]
    },
    {
      "cell_type": "code",
      "execution_count": null,
      "metadata": {
        "id": "poVH7-0RFxqC"
      },
      "outputs": [],
      "source": [
        "def clean_outliers_q3(dataset, column_name):\n",
        "    \"\"\"Returns dataset removing the outlier rows from column @column_name.\"\"\"\n",
        "    interesting_col = dataset[column_name]\n",
        "    # Here we can remove the outliers from both ends, or even add more restrictions.\n",
        "    mask_outlier = (interesting_col <= (2.5 * interesting_col.quantile(.75)))\n",
        "    return dataset[mask_outlier]"
      ]
    },
    {
      "cell_type": "code",
      "execution_count": null,
      "metadata": {
        "id": "MaZj8_fatXgo",
        "colab": {
          "base_uri": "https://localhost:8080/",
          "height": 405
        },
        "outputId": "cbab8842-56c5-4075-95fd-f24c4a138d8f"
      },
      "outputs": [
        {
          "output_type": "execute_result",
          "data": {
            "text/plain": [
              "<Axes: xlabel='salary_monthly_BRUTO', ylabel='Count'>"
            ]
          },
          "metadata": {},
          "execution_count": 32
        },
        {
          "output_type": "display_data",
          "data": {
            "text/plain": [
              "<Figure size 1200x400 with 1 Axes>"
            ],
            "image/png": "[encoded data removed]"
          },
          "metadata": {}
        }
      ],
      "source": [
        "fig = plt.figure(figsize=(12, 4))\n",
        "data = clean_outliers_q3(df, salary_col)[salary_col]\n",
        "seaborn.histplot(x=data)"
      ]
    },
    {
      "cell_type": "code",
      "execution_count": null,
      "metadata": {
        "id": "9RPNlz5-kjgD"
      },
      "outputs": [],
      "source": [
        "def clean_outliers_sd(dataset, column_name):\n",
        "    \"\"\"Returns dataset removing the outlier rows from column @column_name.\"\"\"\n",
        "    interesting_col = dataset[column_name]\n",
        "    # Here we can remove the outliers from both ends, or even add more restrictions.\n",
        "    mask_outlier = (\n",
        "        numpy.abs(interesting_col - interesting_col.mean()) <=\n",
        "        (2.5 * interesting_col.std()))\n",
        "    return dataset[mask_outlier]"
      ]
    },
    {
      "cell_type": "code",
      "execution_count": null,
      "metadata": {
        "id": "bpQ28UwSGYAF",
        "colab": {
          "base_uri": "https://localhost:8080/",
          "height": 405
        },
        "outputId": "912f9cd9-a3b8-4b78-9ea6-89b5b56f9785"
      },
      "outputs": [
        {
          "output_type": "execute_result",
          "data": {
            "text/plain": [
              "<Axes: xlabel='salary_monthly_BRUTO', ylabel='Count'>"
            ]
          },
          "metadata": {},
          "execution_count": 34
        },
        {
          "output_type": "display_data",
          "data": {
            "text/plain": [
              "<Figure size 1200x400 with 1 Axes>"
            ],
            "image/png": "[encoded data removed]"
          },
          "metadata": {}
        }
      ],
      "source": [
        "fig = plt.figure(figsize=(12, 4))\n",
        "data = clean_outliers_sd(df, salary_col)[salary_col]\n",
        "seaborn.histplot(x=data)"
      ]
    },
    {
      "cell_type": "markdown",
      "metadata": {
        "id": "KY55pa57CW7T"
      },
      "source": [
        "**REHACER CON 'salary_monthly_NETO'**"
      ]
    },
    {
      "cell_type": "markdown",
      "metadata": {
        "id": "fuDscbVqttGZ"
      },
      "source": [
        "### ¡Mirando los datos!\n",
        "\n",
        "¿Quiénes son los que cobran tanto?"
      ]
    },
    {
      "cell_type": "code",
      "source": [
        "len(df[df[salary_col] > df[salary_col].quantile(0.98)])"
      ],
      "metadata": {
        "colab": {
          "base_uri": "https://localhost:8080/"
        },
        "id": "nfRmr3_9xKTR",
        "outputId": "903d1b55-5339-4dd6-e33d-e13acbd0621e"
      },
      "execution_count": null,
      "outputs": [
        {
          "output_type": "execute_result",
          "data": {
            "text/plain": [
              "104"
            ]
          },
          "metadata": {},
          "execution_count": 35
        }
      ]
    },
    {
      "cell_type": "code",
      "execution_count": null,
      "metadata": {
        "id": "zIt2nJXvtx3g",
        "colab": {
          "base_uri": "https://localhost:8080/",
          "height": 756
        },
        "outputId": "bee46982-e94a-4569-915e-298bbffa82ec"
      },
      "outputs": [
        {
          "output_type": "execute_result",
          "data": {
            "text/plain": [
              "      Unnamed: 0                    work_province work_dedication  \\\n",
              "1              1  Ciudad Autónoma de Buenos Aires       Full-Time   \n",
              "44            46  Ciudad Autónoma de Buenos Aires       Full-Time   \n",
              "58            62                     Buenos Aires       Full-Time   \n",
              "60            64  Ciudad Autónoma de Buenos Aires       Full-Time   \n",
              "92            97  Ciudad Autónoma de Buenos Aires       Full-Time   \n",
              "...          ...                              ...             ...   \n",
              "4744        4868  Ciudad Autónoma de Buenos Aires       Full-Time   \n",
              "4838        4964  Ciudad Autónoma de Buenos Aires       Full-Time   \n",
              "4962        5090                          Córdoba       Full-Time   \n",
              "5047        5175  Ciudad Autónoma de Buenos Aires       Full-Time   \n",
              "5090        5218                     Buenos Aires       Full-Time   \n",
              "\n",
              "             work_contract_type  salary_monthly_BRUTO  salary_monthly_NETO  \\\n",
              "1                    Contractor           12700000.00          10200000.00   \n",
              "44    Staff (planta permanente)           10000000.00          10000000.00   \n",
              "58    Staff (planta permanente)            8500000.00           5000000.00   \n",
              "60                   Contractor           10000000.00          10000000.00   \n",
              "92                   Contractor            8000000.00                  NaN   \n",
              "...                         ...                   ...                  ...   \n",
              "4744  Staff (planta permanente)            8600000.00           7000000.00   \n",
              "4838  Staff (planta permanente)            8000000.00           6500000.00   \n",
              "4962  Staff (planta permanente)            8300000.00           6068000.00   \n",
              "5047  Staff (planta permanente)            8500000.00           5000000.00   \n",
              "5090                 Contractor            8000000.00           7000000.00   \n",
              "\n",
              "                         salary_in_usd salary_last_dollar_value  \\\n",
              "1     Cobro todo el salario en dólares                      NaN   \n",
              "44    Cobro todo el salario en dólares                     1100   \n",
              "58    Cobro todo el salario en dólares                     1100   \n",
              "60    Cobro todo el salario en dólares                     1100   \n",
              "92    Cobro todo el salario en dólares          Pago en dolares   \n",
              "...                                ...                      ...   \n",
              "4744                               NaN                      NaN   \n",
              "4838                               NaN                      NaN   \n",
              "4962                               NaN                      NaN   \n",
              "5047                               NaN                      NaN   \n",
              "5090                               NaN                      NaN   \n",
              "\n",
              "           salary_has_bonus        salary_bonus_tied_to  ...  \\\n",
              "1                 Un sueldo  Performance de la compañía  ...   \n",
              "44    De uno a tres sueldos      Performance individual  ...   \n",
              "58       Menos de un sueldo  Performance de la compañía  ...   \n",
              "60       Menos de un sueldo  Performance de la compañía  ...   \n",
              "92                       No              No recibo bono  ...   \n",
              "...                     ...                         ...  ...   \n",
              "4744             3+ sueldos       Mix de las anteriores  ...   \n",
              "4838  De uno a tres sueldos          Performance grupal  ...   \n",
              "4962              Un sueldo       Mix de las anteriores  ...   \n",
              "5047  De uno a tres sueldos  Performance de la compañía  ...   \n",
              "5090                     No              No recibo bono  ...   \n",
              "\n",
              "     salir_o_seguir_contestando_sobre_las_guardias  work_on_call_duty  \\\n",
              "1                                Terminar encuesta                 No   \n",
              "44                                             NaN                NaN   \n",
              "58                                             NaN                NaN   \n",
              "60                        Responder sobre guardias                 No   \n",
              "92                                             NaN                NaN   \n",
              "...                                            ...                ...   \n",
              "4744                                           NaN                NaN   \n",
              "4838                             Terminar encuesta                NaN   \n",
              "4962                                           NaN                NaN   \n",
              "5047                             Terminar encuesta         Sí, pasiva   \n",
              "5090                                           NaN                NaN   \n",
              "\n",
              "     salary_on_call_duty_charge  \\\n",
              "1                          0.00   \n",
              "44                          NaN   \n",
              "58                          NaN   \n",
              "60                         0.00   \n",
              "92                          NaN   \n",
              "...                         ...   \n",
              "4744                        NaN   \n",
              "4838                        NaN   \n",
              "4962                        NaN   \n",
              "5047                       0.00   \n",
              "5090                        NaN   \n",
              "\n",
              "      aclara_el_numero_que_ingresaste_en_el_campo_anterior profile_age  \\\n",
              "1                                                 Bruto             32   \n",
              "44                                                  NaN             37   \n",
              "58                                                  NaN             40   \n",
              "60                        Porcentaje de mi sueldo bruto             39   \n",
              "92                                                  NaN             37   \n",
              "...                                                 ...            ...   \n",
              "4744                                                NaN             40   \n",
              "4838                                                NaN             41   \n",
              "4962                                                NaN             48   \n",
              "5047                      Porcentaje de mi sueldo bruto             36   \n",
              "5090                                                NaN             48   \n",
              "\n",
              "      profile_gender  \\\n",
              "1          Mujer Cis   \n",
              "44        Hombre Cis   \n",
              "58        Hombre Cis   \n",
              "60        Hombre Cis   \n",
              "92        Hombre Cis   \n",
              "...              ...   \n",
              "4744      Hombre Cis   \n",
              "4838      Hombre Cis   \n",
              "4962      Hombre Cis   \n",
              "5047      Hombre Cis   \n",
              "5090      Hombre Cis   \n",
              "\n",
              "     habias_respondido_nuestra_encuesta_en_ediciones_anteriores  \\\n",
              "1                                                    Sí           \n",
              "44                                                   Sí           \n",
              "58                                                   Sí           \n",
              "60                                                   Sí           \n",
              "92                                                   Sí           \n",
              "...                                                 ...           \n",
              "4744                                                 Sí           \n",
              "4838                                                 Sí           \n",
              "4962                                                 Sí           \n",
              "5047                                                 Sí           \n",
              "5090                                                 Sí           \n",
              "\n",
              "     sueldo_dolarizado seniority        _sal  \n",
              "1                 True    Senior 12700000.00  \n",
              "44                True    Senior 10000000.00  \n",
              "58                True    Senior  8500000.00  \n",
              "60                True    Senior 10000000.00  \n",
              "92                True    Senior  8000000.00  \n",
              "...                ...       ...         ...  \n",
              "4744             False    Senior  8600000.00  \n",
              "4838             False    Senior  8000000.00  \n",
              "4962             False    Senior  8300000.00  \n",
              "5047             False    Senior  8500000.00  \n",
              "5090             False    Senior  8000000.00  \n",
              "\n",
              "[104 rows x 51 columns]"
            ],
            "text/html": [
              "\n",
              "  <div id=\"df-f9be41d5-f4d5-4c60-81b9-6b8d0e1d2050\" class=\"colab-df-container\">\n",
              "    <div>\n",
              "<style scoped>\n",
              "    .dataframe tbody tr th:only-of-type {\n",
              "        vertical-align: middle;\n",
              "    }\n",
              "\n",
              "    .dataframe tbody tr th {\n",
              "        vertical-align: top;\n",
              "    }\n",
              "\n",
              "    .dataframe thead th {\n",
              "        text-align: right;\n",
              "    }\n",
              "</style>\n",
              "<table border=\"1\" class=\"dataframe\">\n",
              "  <thead>\n",
              "    <tr style=\"text-align: right;\">\n",
              "      <th></th>\n",
              "      <th>Unnamed: 0</th>\n",
              "      <th>work_province</th>\n",
              "      <th>work_dedication</th>\n",
              "      <th>work_contract_type</th>\n",
              "      <th>salary_monthly_BRUTO</th>\n",
              "      <th>salary_monthly_NETO</th>\n",
              "      <th>salary_in_usd</th>\n",
              "      <th>salary_last_dollar_value</th>\n",
              "      <th>salary_has_bonus</th>\n",
              "      <th>salary_bonus_tied_to</th>\n",
              "      <th>...</th>\n",
              "      <th>salir_o_seguir_contestando_sobre_las_guardias</th>\n",
              "      <th>work_on_call_duty</th>\n",
              "      <th>salary_on_call_duty_charge</th>\n",
              "      <th>aclara_el_numero_que_ingresaste_en_el_campo_anterior</th>\n",
              "      <th>profile_age</th>\n",
              "      <th>profile_gender</th>\n",
              "      <th>habias_respondido_nuestra_encuesta_en_ediciones_anteriores</th>\n",
              "      <th>sueldo_dolarizado</th>\n",
              "      <th>seniority</th>\n",
              "      <th>_sal</th>\n",
              "    </tr>\n",
              "  </thead>\n",
              "  <tbody>\n",
              "    <tr>\n",
              "      <th>1</th>\n",
              "      <td>1</td>\n",
              "      <td>Ciudad Autónoma de Buenos Aires</td>\n",
              "      <td>Full-Time</td>\n",
              "      <td>Contractor</td>\n",
              "      <td>12700000.00</td>\n",
              "      <td>10200000.00</td>\n",
              "      <td>Cobro todo el salario en dólares</td>\n",
              "      <td>NaN</td>\n",
              "      <td>Un sueldo</td>\n",
              "      <td>Performance de la compañía</td>\n",
              "      <td>...</td>\n",
              "      <td>Terminar encuesta</td>\n",
              "      <td>No</td>\n",
              "      <td>0.00</td>\n",
              "      <td>Bruto</td>\n",
              "      <td>32</td>\n",
              "      <td>Mujer Cis</td>\n",
              "      <td>Sí</td>\n",
              "      <td>True</td>\n",
              "      <td>Senior</td>\n",
              "      <td>12700000.00</td>\n",
              "    </tr>\n",
              "    <tr>\n",
              "      <th>44</th>\n",
              "      <td>46</td>\n",
              "      <td>Ciudad Autónoma de Buenos Aires</td>\n",
              "      <td>Full-Time</td>\n",
              "      <td>Staff (planta permanente)</td>\n",
              "      <td>10000000.00</td>\n",
              "      <td>10000000.00</td>\n",
              "      <td>Cobro todo el salario en dólares</td>\n",
              "      <td>1100</td>\n",
              "      <td>De uno a tres sueldos</td>\n",
              "      <td>Performance individual</td>\n",
              "      <td>...</td>\n",
              "      <td>NaN</td>\n",
              "      <td>NaN</td>\n",
              "      <td>NaN</td>\n",
              "      <td>NaN</td>\n",
              "      <td>37</td>\n",
              "      <td>Hombre Cis</td>\n",
              "      <td>Sí</td>\n",
              "      <td>True</td>\n",
              "      <td>Senior</td>\n",
              "      <td>10000000.00</td>\n",
              "    </tr>\n",
              "    <tr>\n",
              "      <th>58</th>\n",
              "      <td>62</td>\n",
              "      <td>Buenos Aires</td>\n",
              "      <td>Full-Time</td>\n",
              "      <td>Staff (planta permanente)</td>\n",
              "      <td>8500000.00</td>\n",
              "      <td>5000000.00</td>\n",
              "      <td>Cobro todo el salario en dólares</td>\n",
              "      <td>1100</td>\n",
              "      <td>Menos de un sueldo</td>\n",
              "      <td>Performance de la compañía</td>\n",
              "      <td>...</td>\n",
              "      <td>NaN</td>\n",
              "      <td>NaN</td>\n",
              "      <td>NaN</td>\n",
              "      <td>NaN</td>\n",
              "      <td>40</td>\n",
              "      <td>Hombre Cis</td>\n",
              "      <td>Sí</td>\n",
              "      <td>True</td>\n",
              "      <td>Senior</td>\n",
              "      <td>8500000.00</td>\n",
              "    </tr>\n",
              "    <tr>\n",
              "      <th>60</th>\n",
              "      <td>64</td>\n",
              "      <td>Ciudad Autónoma de Buenos Aires</td>\n",
              "      <td>Full-Time</td>\n",
              "      <td>Contractor</td>\n",
              "      <td>10000000.00</td>\n",
              "      <td>10000000.00</td>\n",
              "      <td>Cobro todo el salario en dólares</td>\n",
              "      <td>1100</td>\n",
              "      <td>Menos de un sueldo</td>\n",
              "      <td>Performance de la compañía</td>\n",
              "      <td>...</td>\n",
              "      <td>Responder sobre guardias</td>\n",
              "      <td>No</td>\n",
              "      <td>0.00</td>\n",
              "      <td>Porcentaje de mi sueldo bruto</td>\n",
              "      <td>39</td>\n",
              "      <td>Hombre Cis</td>\n",
              "      <td>Sí</td>\n",
              "      <td>True</td>\n",
              "      <td>Senior</td>\n",
              "      <td>10000000.00</td>\n",
              "    </tr>\n",
              "    <tr>\n",
              "      <th>92</th>\n",
              "      <td>97</td>\n",
              "      <td>Ciudad Autónoma de Buenos Aires</td>\n",
              "      <td>Full-Time</td>\n",
              "      <td>Contractor</td>\n",
              "      <td>8000000.00</td>\n",
              "      <td>NaN</td>\n",
              "      <td>Cobro todo el salario en dólares</td>\n",
              "      <td>Pago en dolares</td>\n",
              "      <td>No</td>\n",
              "      <td>No recibo bono</td>\n",
              "      <td>...</td>\n",
              "      <td>NaN</td>\n",
              "      <td>NaN</td>\n",
              "      <td>NaN</td>\n",
              "      <td>NaN</td>\n",
              "      <td>37</td>\n",
              "      <td>Hombre Cis</td>\n",
              "      <td>Sí</td>\n",
              "      <td>True</td>\n",
              "      <td>Senior</td>\n",
              "      <td>8000000.00</td>\n",
              "    </tr>\n",
              "    <tr>\n",
              "      <th>...</th>\n",
              "      <td>...</td>\n",
              "      <td>...</td>\n",
              "      <td>...</td>\n",
              "      <td>...</td>\n",
              "      <td>...</td>\n",
              "      <td>...</td>\n",
              "      <td>...</td>\n",
              "      <td>...</td>\n",
              "      <td>...</td>\n",
              "      <td>...</td>\n",
              "      <td>...</td>\n",
              "      <td>...</td>\n",
              "      <td>...</td>\n",
              "      <td>...</td>\n",
              "      <td>...</td>\n",
              "      <td>...</td>\n",
              "      <td>...</td>\n",
              "      <td>...</td>\n",
              "      <td>...</td>\n",
              "      <td>...</td>\n",
              "      <td>...</td>\n",
              "    </tr>\n",
              "    <tr>\n",
              "      <th>4744</th>\n",
              "      <td>4868</td>\n",
              "      <td>Ciudad Autónoma de Buenos Aires</td>\n",
              "      <td>Full-Time</td>\n",
              "      <td>Staff (planta permanente)</td>\n",
              "      <td>8600000.00</td>\n",
              "      <td>7000000.00</td>\n",
              "      <td>NaN</td>\n",
              "      <td>NaN</td>\n",
              "      <td>3+ sueldos</td>\n",
              "      <td>Mix de las anteriores</td>\n",
              "      <td>...</td>\n",
              "      <td>NaN</td>\n",
              "      <td>NaN</td>\n",
              "      <td>NaN</td>\n",
              "      <td>NaN</td>\n",
              "      <td>40</td>\n",
              "      <td>Hombre Cis</td>\n",
              "      <td>Sí</td>\n",
              "      <td>False</td>\n",
              "      <td>Senior</td>\n",
              "      <td>8600000.00</td>\n",
              "    </tr>\n",
              "    <tr>\n",
              "      <th>4838</th>\n",
              "      <td>4964</td>\n",
              "      <td>Ciudad Autónoma de Buenos Aires</td>\n",
              "      <td>Full-Time</td>\n",
              "      <td>Staff (planta permanente)</td>\n",
              "      <td>8000000.00</td>\n",
              "      <td>6500000.00</td>\n",
              "      <td>NaN</td>\n",
              "      <td>NaN</td>\n",
              "      <td>De uno a tres sueldos</td>\n",
              "      <td>Performance grupal</td>\n",
              "      <td>...</td>\n",
              "      <td>Terminar encuesta</td>\n",
              "      <td>NaN</td>\n",
              "      <td>NaN</td>\n",
              "      <td>NaN</td>\n",
              "      <td>41</td>\n",
              "      <td>Hombre Cis</td>\n",
              "      <td>Sí</td>\n",
              "      <td>False</td>\n",
              "      <td>Senior</td>\n",
              "      <td>8000000.00</td>\n",
              "    </tr>\n",
              "    <tr>\n",
              "      <th>4962</th>\n",
              "      <td>5090</td>\n",
              "      <td>Córdoba</td>\n",
              "      <td>Full-Time</td>\n",
              "      <td>Staff (planta permanente)</td>\n",
              "      <td>8300000.00</td>\n",
              "      <td>6068000.00</td>\n",
              "      <td>NaN</td>\n",
              "      <td>NaN</td>\n",
              "      <td>Un sueldo</td>\n",
              "      <td>Mix de las anteriores</td>\n",
              "      <td>...</td>\n",
              "      <td>NaN</td>\n",
              "      <td>NaN</td>\n",
              "      <td>NaN</td>\n",
              "      <td>NaN</td>\n",
              "      <td>48</td>\n",
              "      <td>Hombre Cis</td>\n",
              "      <td>Sí</td>\n",
              "      <td>False</td>\n",
              "      <td>Senior</td>\n",
              "      <td>8300000.00</td>\n",
              "    </tr>\n",
              "    <tr>\n",
              "      <th>5047</th>\n",
              "      <td>5175</td>\n",
              "      <td>Ciudad Autónoma de Buenos Aires</td>\n",
              "      <td>Full-Time</td>\n",
              "      <td>Staff (planta permanente)</td>\n",
              "      <td>8500000.00</td>\n",
              "      <td>5000000.00</td>\n",
              "      <td>NaN</td>\n",
              "      <td>NaN</td>\n",
              "      <td>De uno a tres sueldos</td>\n",
              "      <td>Performance de la compañía</td>\n",
              "      <td>...</td>\n",
              "      <td>Terminar encuesta</td>\n",
              "      <td>Sí, pasiva</td>\n",
              "      <td>0.00</td>\n",
              "      <td>Porcentaje de mi sueldo bruto</td>\n",
              "      <td>36</td>\n",
              "      <td>Hombre Cis</td>\n",
              "      <td>Sí</td>\n",
              "      <td>False</td>\n",
              "      <td>Senior</td>\n",
              "      <td>8500000.00</td>\n",
              "    </tr>\n",
              "    <tr>\n",
              "      <th>5090</th>\n",
              "      <td>5218</td>\n",
              "      <td>Buenos Aires</td>\n",
              "      <td>Full-Time</td>\n",
              "      <td>Contractor</td>\n",
              "      <td>8000000.00</td>\n",
              "      <td>7000000.00</td>\n",
              "      <td>NaN</td>\n",
              "      <td>NaN</td>\n",
              "      <td>No</td>\n",
              "      <td>No recibo bono</td>\n",
              "      <td>...</td>\n",
              "      <td>NaN</td>\n",
              "      <td>NaN</td>\n",
              "      <td>NaN</td>\n",
              "      <td>NaN</td>\n",
              "      <td>48</td>\n",
              "      <td>Hombre Cis</td>\n",
              "      <td>Sí</td>\n",
              "      <td>False</td>\n",
              "      <td>Senior</td>\n",
              "      <td>8000000.00</td>\n",
              "    </tr>\n",
              "  </tbody>\n",
              "</table>\n",
              "<p>104 rows × 51 columns</p>\n",
              "</div>\n",
              "    <div class=\"colab-df-buttons\">\n",
              "\n",
              "  <div class=\"colab-df-container\">\n",
              "    <button class=\"colab-df-convert\" onclick=\"convertToInteractive('df-f9be41d5-f4d5-4c60-81b9-6b8d0e1d2050')\"\n",
              "            title=\"Convert this dataframe to an interactive table.\"\n",
              "            style=\"display:none;\">\n",
              "\n",
              "  <svg xmlns=\"http://www.w3.org/2000/svg\" height=\"24px\" viewBox=\"0 -960 960 960\">\n",
              "    <path d=\"M120-120v-720h720v720H120Zm60-500h600v-160H180v160Zm220 220h160v-160H400v160Zm0 220h160v-160H400v160ZM180-400h160v-160H180v160Zm440 0h160v-160H620v160ZM180-180h160v-160H180v160Zm440 0h160v-160H620v160Z\"/>\n",
              "  </svg>\n",
              "    </button>\n",
              "\n",
              "  <style>\n",
              "    .colab-df-container {\n",
              "      display:flex;\n",
              "      gap: 12px;\n",
              "    }\n",
              "\n",
              "    .colab-df-convert {\n",
              "      background-color: #E8F0FE;\n",
              "      border: none;\n",
              "      border-radius: 50%;\n",
              "      cursor: pointer;\n",
              "      display: none;\n",
              "      fill: #1967D2;\n",
              "      height: 32px;\n",
              "      padding: 0 0 0 0;\n",
              "      width: 32px;\n",
              "    }\n",
              "\n",
              "    .colab-df-convert:hover {\n",
              "      background-color: #E2EBFA;\n",
              "      box-shadow: 0px 1px 2px rgba(60, 64, 67, 0.3), 0px 1px 3px 1px rgba(60, 64, 67, 0.15);\n",
              "      fill: #174EA6;\n",
              "    }\n",
              "\n",
              "    .colab-df-buttons div {\n",
              "      margin-bottom: 4px;\n",
              "    }\n",
              "\n",
              "    [theme=dark] .colab-df-convert {\n",
              "      background-color: #3B4455;\n",
              "      fill: #D2E3FC;\n",
              "    }\n",
              "\n",
              "    [theme=dark] .colab-df-convert:hover {\n",
              "      background-color: #434B5C;\n",
              "      box-shadow: 0px 1px 3px 1px rgba(0, 0, 0, 0.15);\n",
              "      filter: drop-shadow(0px 1px 2px rgba(0, 0, 0, 0.3));\n",
              "      fill: #FFFFFF;\n",
              "    }\n",
              "  </style>\n",
              "\n",
              "    <script>\n",
              "      const buttonEl =\n",
              "        document.querySelector('#df-f9be41d5-f4d5-4c60-81b9-6b8d0e1d2050 button.colab-df-convert');\n",
              "      buttonEl.style.display =\n",
              "        google.colab.kernel.accessAllowed ? 'block' : 'none';\n",
              "\n",
              "      async function convertToInteractive(key) {\n",
              "        const element = document.querySelector('#df-f9be41d5-f4d5-4c60-81b9-6b8d0e1d2050');\n",
              "        const dataTable =\n",
              "          await google.colab.kernel.invokeFunction('convertToInteractive',\n",
              "                                                    [key], {});\n",
              "        if (!dataTable) return;\n",
              "\n",
              "        const docLinkHtml = 'Like what you see? Visit the ' +\n",
              "          '<a target=\"_blank\" href=https://colab.research.google.com/notebooks/data_table.ipynb>data table notebook</a>'\n",
              "          + ' to learn more about interactive tables.';\n",
              "        element.innerHTML = '';\n",
              "        dataTable['output_type'] = 'display_data';\n",
              "        await google.colab.output.renderOutput(dataTable, element);\n",
              "        const docLink = document.createElement('div');\n",
              "        docLink.innerHTML = docLinkHtml;\n",
              "        element.appendChild(docLink);\n",
              "      }\n",
              "    </script>\n",
              "  </div>\n",
              "\n",
              "\n",
              "<div id=\"df-25a573a3-2b2c-4d4a-8bf8-a84bacefebcc\">\n",
              "  <button class=\"colab-df-quickchart\" onclick=\"quickchart('df-25a573a3-2b2c-4d4a-8bf8-a84bacefebcc')\"\n",
              "            title=\"Suggest charts\"\n",
              "            style=\"display:none;\">\n",
              "\n",
              "<svg xmlns=\"http://www.w3.org/2000/svg\" height=\"24px\"viewBox=\"0 0 24 24\"\n",
              "     width=\"24px\">\n",
              "    <g>\n",
              "        <path d=\"M19 3H5c-1.1 0-2 .9-2 2v14c0 1.1.9 2 2 2h14c1.1 0 2-.9 2-2V5c0-1.1-.9-2-2-2zM9 17H7v-7h2v7zm4 0h-2V7h2v10zm4 0h-2v-4h2v4z\"/>\n",
              "    </g>\n",
              "</svg>\n",
              "  </button>\n",
              "\n",
              "<style>\n",
              "  .colab-df-quickchart {\n",
              "      --bg-color: #E8F0FE;\n",
              "      --fill-color: #1967D2;\n",
              "      --hover-bg-color: #E2EBFA;\n",
              "      --hover-fill-color: #174EA6;\n",
              "      --disabled-fill-color: #AAA;\n",
              "      --disabled-bg-color: #DDD;\n",
              "  }\n",
              "\n",
              "  [theme=dark] .colab-df-quickchart {\n",
              "      --bg-color: #3B4455;\n",
              "      --fill-color: #D2E3FC;\n",
              "      --hover-bg-color: #434B5C;\n",
              "      --hover-fill-color: #FFFFFF;\n",
              "      --disabled-bg-color: #3B4455;\n",
              "      --disabled-fill-color: #666;\n",
              "  }\n",
              "\n",
              "  .colab-df-quickchart {\n",
              "    background-color: var(--bg-color);\n",
              "    border: none;\n",
              "    border-radius: 50%;\n",
              "    cursor: pointer;\n",
              "    display: none;\n",
              "    fill: var(--fill-color);\n",
              "    height: 32px;\n",
              "    padding: 0;\n",
              "    width: 32px;\n",
              "  }\n",
              "\n",
              "  .colab-df-quickchart:hover {\n",
              "    background-color: var(--hover-bg-color);\n",
              "    box-shadow: 0 1px 2px rgba(60, 64, 67, 0.3), 0 1px 3px 1px rgba(60, 64, 67, 0.15);\n",
              "    fill: var(--button-hover-fill-color);\n",
              "  }\n",
              "\n",
              "  .colab-df-quickchart-complete:disabled,\n",
              "  .colab-df-quickchart-complete:disabled:hover {\n",
              "    background-color: var(--disabled-bg-color);\n",
              "    fill: var(--disabled-fill-color);\n",
              "    box-shadow: none;\n",
              "  }\n",
              "\n",
              "  .colab-df-spinner {\n",
              "    border: 2px solid var(--fill-color);\n",
              "    border-color: transparent;\n",
              "    border-bottom-color: var(--fill-color);\n",
              "    animation:\n",
              "      spin 1s steps(1) infinite;\n",
              "  }\n",
              "\n",
              "  @keyframes spin {\n",
              "    0% {\n",
              "      border-color: transparent;\n",
              "      border-bottom-color: var(--fill-color);\n",
              "      border-left-color: var(--fill-color);\n",
              "    }\n",
              "    20% {\n",
              "      border-color: transparent;\n",
              "      border-left-color: var(--fill-color);\n",
              "      border-top-color: var(--fill-color);\n",
              "    }\n",
              "    30% {\n",
              "      border-color: transparent;\n",
              "      border-left-color: var(--fill-color);\n",
              "      border-top-color: var(--fill-color);\n",
              "      border-right-color: var(--fill-color);\n",
              "    }\n",
              "    40% {\n",
              "      border-color: transparent;\n",
              "      border-right-color: var(--fill-color);\n",
              "      border-top-color: var(--fill-color);\n",
              "    }\n",
              "    60% {\n",
              "      border-color: transparent;\n",
              "      border-right-color: var(--fill-color);\n",
              "    }\n",
              "    80% {\n",
              "      border-color: transparent;\n",
              "      border-right-color: var(--fill-color);\n",
              "      border-bottom-color: var(--fill-color);\n",
              "    }\n",
              "    90% {\n",
              "      border-color: transparent;\n",
              "      border-bottom-color: var(--fill-color);\n",
              "    }\n",
              "  }\n",
              "</style>\n",
              "\n",
              "  <script>\n",
              "    async function quickchart(key) {\n",
              "      const quickchartButtonEl =\n",
              "        document.querySelector('#' + key + ' button');\n",
              "      quickchartButtonEl.disabled = true;  // To prevent multiple clicks.\n",
              "      quickchartButtonEl.classList.add('colab-df-spinner');\n",
              "      try {\n",
              "        const charts = await google.colab.kernel.invokeFunction(\n",
              "            'suggestCharts', [key], {});\n",
              "      } catch (error) {\n",
              "        console.error('Error during call to suggestCharts:', error);\n",
              "      }\n",
              "      quickchartButtonEl.classList.remove('colab-df-spinner');\n",
              "      quickchartButtonEl.classList.add('colab-df-quickchart-complete');\n",
              "    }\n",
              "    (() => {\n",
              "      let quickchartButtonEl =\n",
              "        document.querySelector('#df-25a573a3-2b2c-4d4a-8bf8-a84bacefebcc button');\n",
              "      quickchartButtonEl.style.display =\n",
              "        google.colab.kernel.accessAllowed ? 'block' : 'none';\n",
              "    })();\n",
              "  </script>\n",
              "</div>\n",
              "\n",
              "    </div>\n",
              "  </div>\n"
            ],
            "application/vnd.google.colaboratory.intrinsic+json": {
              "type": "dataframe"
            }
          },
          "metadata": {},
          "execution_count": 36
        }
      ],
      "source": [
        "df_filtrada=df[df[salary_col] > df[salary_col].quantile(0.98)]\n",
        "df[df[salary_col] > df[salary_col].quantile(0.98)]\n"
      ]
    }
  ],
  "metadata": {
    "colab": {
      "provenance": [],
      "gpuType": "V28"
    },
    "kernelspec": {
      "display_name": "Python 3",
      "name": "python3"
    },
    "accelerator": "TPU"
  },
  "nbformat": 4,
  "nbformat_minor": 0
}